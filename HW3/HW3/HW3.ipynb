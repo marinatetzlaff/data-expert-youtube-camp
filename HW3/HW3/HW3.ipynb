{
 "cells": [
  {
   "cell_type": "markdown",
   "id": "f91911a1-3b3d-4a8f-9807-bc814437fb9b",
   "metadata": {},
   "source": [
    "# Homework Week 3 - Spark Fundamentals\n",
    "### by Marina Tetzlaff | December 31, 2024\n",
    "\n",
    "Start by loading the datasets from the iceberg data folder. The queries will use the following tables:\n",
    "- match_details\n",
    "- matches\n",
    "- medals_matches_players\n",
    "- medals\n",
    "- maps\n"
   ]
  },
  {
   "cell_type": "code",
   "execution_count": 3,
   "id": "d0e44655-9707-4079-b784-36c6a6d888a4",
   "metadata": {},
   "outputs": [
    {
     "name": "stderr",
     "output_type": "stream",
     "text": [
      "24/12/30 13:46:28 WARN SparkSession: Using an existing Spark session; only runtime SQL configurations will take effect.\n"
     ]
    },
    {
     "data": {
      "text/html": [
       "\n",
       "            <div>\n",
       "                <p><b>SparkSession - in-memory</b></p>\n",
       "                \n",
       "        <div>\n",
       "            <p><b>SparkContext</b></p>\n",
       "\n",
       "            <p><a href=\"http://ab7f5b69ccf8:4042\">Spark UI</a></p>\n",
       "\n",
       "            <dl>\n",
       "              <dt>Version</dt>\n",
       "                <dd><code>v3.5.1</code></dd>\n",
       "              <dt>Master</dt>\n",
       "                <dd><code>local[*]</code></dd>\n",
       "              <dt>AppName</dt>\n",
       "                <dd><code>PySparkShell</code></dd>\n",
       "            </dl>\n",
       "        </div>\n",
       "        \n",
       "            </div>\n",
       "        "
      ],
      "text/plain": [
       "<pyspark.sql.session.SparkSession at 0x7f7f30991a60>"
      ]
     },
     "execution_count": 3,
     "metadata": {},
     "output_type": "execute_result"
    }
   ],
   "source": [
    "from pyspark.sql import SparkSession\n",
    "from pyspark.sql.functions import expr, col\n",
    "spark = SparkSession.builder.appName(\"Jupyter\").getOrCreate()\n",
    "\n",
    "spark"
   ]
  },
  {
   "cell_type": "markdown",
   "id": "12058230-b987-480b-9189-657be5158010",
   "metadata": {},
   "source": [
    "## 0. Import the data sources"
   ]
  },
  {
   "cell_type": "code",
   "execution_count": 4,
   "id": "d08ce781-8730-485d-a624-37d6151fcf41",
   "metadata": {
    "scrolled": true
   },
   "outputs": [
    {
     "name": "stderr",
     "output_type": "stream",
     "text": [
      "24/12/30 13:46:33 WARN SparkStringUtils: Truncated the string representation of a plan since it was too large. This behavior can be adjusted by setting 'spark.sql.debug.maxToStringFields'.\n"
     ]
    },
    {
     "name": "stdout",
     "output_type": "stream",
     "text": [
      "+--------------------+---------------+---------------------+------------+-----------------+--------+-----------------+------------------------+------------+---------------------------------+-----------------+----------------+-----------------------+-----------+--------------------------------+----------------+-------------------+---------------+-------------------+------------------+----------------------+--------------------------+-------------------------+------------------------+-------------------------+---------------------------+-------------------------------+--------------------------------+---------------------------+--------------------------------+-------------------------------+-------------------+--------------------+--------------------------+-------+-------+\n",
      "|            match_id|player_gamertag|previous_spartan_rank|spartan_rank|previous_total_xp|total_xp|previous_csr_tier|previous_csr_designation|previous_csr|previous_csr_percent_to_next_tier|previous_csr_rank|current_csr_tier|current_csr_designation|current_csr|current_csr_percent_to_next_tier|current_csr_rank|player_rank_on_team|player_finished|player_average_life|player_total_kills|player_total_headshots|player_total_weapon_damage|player_total_shots_landed|player_total_melee_kills|player_total_melee_damage|player_total_assassinations|player_total_ground_pound_kills|player_total_shoulder_bash_kills|player_total_grenade_damage|player_total_power_weapon_damage|player_total_power_weapon_grabs|player_total_deaths|player_total_assists|player_total_grenade_kills|did_win|team_id|\n",
      "+--------------------+---------------+---------------------+------------+-----------------+--------+-----------------+------------------------+------------+---------------------------------+-----------------+----------------+-----------------------+-----------+--------------------------------+----------------+-------------------+---------------+-------------------+------------------+----------------------+--------------------------+-------------------------+------------------------+-------------------------+---------------------------+-------------------------------+--------------------------------+---------------------------+--------------------------------+-------------------------------+-------------------+--------------------+--------------------------+-------+-------+\n",
      "|71d79b23-4143-435...|      taterbase|                    5|           5|            12537|   13383|                1|                       3|           0|                               98|             NULL|               2|                      3|          0|                              26|            NULL|                  4|          false|        PT14.81149S|                 6|                     4|                       255|                       28|                       0|                        0|                          0|                              0|                               0|                          0|                               0|                              0|                 13|                   1|                         0|      1|      1|\n",
      "|71d79b23-4143-435...| SuPeRSaYaInG0D|                   18|          18|           131943|  132557|                2|                       3|           0|                                2|             NULL|               1|                      3|          0|                              76|            NULL|                  7|          false|      PT11.2990845S|                 7|                     3|        350.58792304992676|                       49|                       1|                       45|                          0|                              0|                               0|                          0|                               0|                              0|                 18|                   2|                         0|      0|      0|\n",
      "|71d79b23-4143-435...|       EcZachly|                   21|          21|           168811|  169762|                2|                       5|           0|                               94|             NULL|               3|                      5|          0|                              24|            NULL|                  3|          false|      PT19.1357063S|                12|                    12|                       625|                       43|                       0|                        0|                          0|                              0|                               0|                          0|                               0|                              0|                 10|                   4|                         0|      1|      1|\n",
      "|71d79b23-4143-435...|    johnsnake04|                   14|          14|            64073|   64639|             NULL|                    NULL|        NULL|                             NULL|             NULL|            NULL|                   NULL|       NULL|                            NULL|            NULL|                  6|          false|      PT21.1521599S|                13|                    13|                       605|                       24|                       0|                        0|                          0|                              0|                               0|                          0|                               0|                              0|                  9|                   2|                         0|      0|      0|\n",
      "|71d79b23-4143-435...| Super Mac Bros|                   26|          26|           243425|  244430|                1|                       5|           0|                               86|             NULL|               2|                      5|          0|                               8|            NULL|                  2|          false|      PT12.8373793S|                13|                    12|                       595|                       32|                       1|       20.004501342773438|                          0|                              0|                               0|                          0|                               0|                              0|                 15|                   2|                         0|      1|      1|\n",
      "+--------------------+---------------+---------------------+------------+-----------------+--------+-----------------+------------------------+------------+---------------------------------+-----------------+----------------+-----------------------+-----------+--------------------------------+----------------+-------------------+---------------+-------------------+------------------+----------------------+--------------------------+-------------------------+------------------------+-------------------------+---------------------------+-------------------------------+--------------------------------+---------------------------+--------------------------------+-------------------------------+-------------------+--------------------+--------------------------+-------+-------+\n",
      "only showing top 5 rows\n",
      "\n"
     ]
    }
   ],
   "source": [
    "match_details = spark.read.option(\"header\", \"true\").csv(\"/home/iceberg/data/match_details.csv\")\n",
    "match_details.show(5)"
   ]
  },
  {
   "cell_type": "code",
   "execution_count": 5,
   "id": "1dfabd30-4307-4444-9f5e-d62d128c5e09",
   "metadata": {},
   "outputs": [
    {
     "name": "stderr",
     "output_type": "stream",
     "text": [
      "                                                                                \r"
     ]
    },
    {
     "data": {
      "text/plain": [
       "11"
      ]
     },
     "execution_count": 5,
     "metadata": {},
     "output_type": "execute_result"
    }
   ],
   "source": [
    "null_count = match_details.filter(match_details.team_id.isNull()).count()\n",
    "null_count"
   ]
  },
  {
   "cell_type": "code",
   "execution_count": 6,
   "id": "8bd960c2-dc0f-43cb-b0f7-84294198e24e",
   "metadata": {},
   "outputs": [
    {
     "name": "stdout",
     "output_type": "stream",
     "text": [
      "+--------------------+--------------------+------------+--------------------+--------------------+-------------+--------------------+--------------+---------+--------------------+\n",
      "|            match_id|               mapid|is_team_game|         playlist_id|     game_variant_id|is_match_over|     completion_date|match_duration|game_mode|      map_variant_id|\n",
      "+--------------------+--------------------+------------+--------------------+--------------------+-------------+--------------------+--------------+---------+--------------------+\n",
      "|11de1a94-8d07-416...|c7edbf0f-f206-11e...|        true|f72e0ef0-7c4a-430...|1e473914-46e4-408...|         true|2016-02-22 00:00:...|          NULL|     NULL|                NULL|\n",
      "|d3643e71-3e51-43e...|cb914b9e-f206-11e...|       false|d0766624-dbd7-453...|257a305e-4dd3-41f...|         true|2016-02-14 00:00:...|          NULL|     NULL|                NULL|\n",
      "|d78d2aae-36e4-48a...|c7edbf0f-f206-11e...|        true|f72e0ef0-7c4a-430...|1e473914-46e4-408...|         true|2016-03-24 00:00:...|          NULL|     NULL|55e5ee2e-88df-465...|\n",
      "|b440069e-ec5f-4f5...|c7edbf0f-f206-11e...|        true|f72e0ef0-7c4a-430...|1e473914-46e4-408...|         true|2015-12-23 00:00:...|          NULL|     NULL|ec3eef73-13e3-4d4...|\n",
      "|1dd475fc-ee6b-4e1...|c93d708f-f206-11e...|        true|0e39ead4-383b-445...|42f97cca-2cb4-497...|         true|2016-04-07 00:00:...|          NULL|     NULL|                NULL|\n",
      "+--------------------+--------------------+------------+--------------------+--------------------+-------------+--------------------+--------------+---------+--------------------+\n",
      "only showing top 5 rows\n",
      "\n"
     ]
    }
   ],
   "source": [
    "matches = spark.read.option(\"header\", \"true\").csv(\"/home/iceberg/data/matches.csv\")\n",
    "matches.show(5)"
   ]
  },
  {
   "cell_type": "code",
   "execution_count": 7,
   "id": "03de3fca-7796-4168-b000-85bbea2bd5d1",
   "metadata": {},
   "outputs": [
    {
     "name": "stdout",
     "output_type": "stream",
     "text": [
      "+--------------------+---------------+----------+-----+\n",
      "|            match_id|player_gamertag|  medal_id|count|\n",
      "+--------------------+---------------+----------+-----+\n",
      "|009fdac5-e15c-47c...|       EcZachly|3261908037|    7|\n",
      "|009fdac5-e15c-47c...|       EcZachly| 824733727|    2|\n",
      "|009fdac5-e15c-47c...|       EcZachly|2078758684|    2|\n",
      "|009fdac5-e15c-47c...|       EcZachly|2782465081|    2|\n",
      "|9169d1a3-955c-4ea...|       EcZachly|3001183151|    1|\n",
      "+--------------------+---------------+----------+-----+\n",
      "only showing top 5 rows\n",
      "\n"
     ]
    }
   ],
   "source": [
    "medals_matches_players = spark.read.option(\"header\", \"true\").csv(\"/home/iceberg/data/medals_matches_players.csv\")\n",
    "medals_matches_players.show(5)"
   ]
  },
  {
   "cell_type": "code",
   "execution_count": 8,
   "id": "71a1372e-cadc-46ea-bfa5-a88f8ddfba6f",
   "metadata": {},
   "outputs": [
    {
     "name": "stdout",
     "output_type": "stream",
     "text": [
      "+----------+--------------------+-----------+----------+------------------+-------------------+------------+-------------+--------------+--------------------+--------------+----------+\n",
      "|  medal_id|          sprite_uri|sprite_left|sprite_top|sprite_sheet_width|sprite_sheet_height|sprite_width|sprite_height|classification|         description|          name|difficulty|\n",
      "+----------+--------------------+-----------+----------+------------------+-------------------+------------+-------------+--------------+--------------------+--------------+----------+\n",
      "|2315448068|                NULL|       NULL|      NULL|              NULL|               NULL|        NULL|         NULL|          NULL|                NULL|          NULL|      NULL|\n",
      "|3565441934|                NULL|       NULL|      NULL|              NULL|               NULL|        NULL|         NULL|          NULL|                NULL|          NULL|      NULL|\n",
      "|4162659350|https://content.h...|        750|       750|                74|                 74|        1125|          899|      Breakout|Kill the last ene...| Buzzer Beater|        45|\n",
      "|1573153198|https://content.h...|          0|       300|                74|                 74|        1125|          899|      Breakout|Survive a one-on-...|    Vanquisher|        30|\n",
      "| 298813630|https://content.h...|          0|       825|                74|                 74|        1125|          899|         Style|Kill an enemy wit...|Spartan Charge|       135|\n",
      "+----------+--------------------+-----------+----------+------------------+-------------------+------------+-------------+--------------+--------------------+--------------+----------+\n",
      "only showing top 5 rows\n",
      "\n"
     ]
    }
   ],
   "source": [
    "medals = spark.read.option(\"header\", \"true\").csv(\"/home/iceberg/data/medals.csv\")\n",
    "medals.show(5)"
   ]
  },
  {
   "cell_type": "markdown",
   "id": "d2fa7f88-8cdc-4d49-b502-b5b0d7c8798d",
   "metadata": {},
   "source": [
    "Goal:\n",
    "- Build a disabled automatic broadcast join with spark.conf.set(\"spark.sql.autoBroadcastJoinThreshold\", \"-1\")\n",
    "- Explicitly broadcast JOINs medals and maps\n",
    "- Bucket join match_details, matches, and medal_matches_players on match_id with 16 buckets\n",
    "- Aggregate the joined data frame to determine the following: \n",
    "    - Player with highest kills per game average\n",
    "    - Playlist with most plays\n",
    "    - Map most played\n",
    "    - Map with most players earning Killing Spree medals\n",
    "- With the aggregated dataset, try different .sortWithinPartitions to see which has the smallest data size (check playlists and maps)"
   ]
  },
  {
   "cell_type": "markdown",
   "id": "84a9ad34-83fe-472b-82bc-42b7868f577e",
   "metadata": {},
   "source": [
    "Next, I need to create a database and insert the data from these tables so we can use SQL to query the data"
   ]
  },
  {
   "cell_type": "code",
   "execution_count": 9,
   "id": "1953d230-dc2b-4836-be5c-1355e6b94673",
   "metadata": {},
   "outputs": [
    {
     "data": {
      "text/html": [
       "<table>\n",
       "    <thead>\n",
       "        <tr>\n",
       "        </tr>\n",
       "    </thead>\n",
       "    <tbody>\n",
       "    </tbody>\n",
       "</table>"
      ],
      "text/plain": [
       "++\n",
       "||\n",
       "++\n",
       "++"
      ]
     },
     "execution_count": 9,
     "metadata": {},
     "output_type": "execute_result"
    }
   ],
   "source": [
    "%%sql\n",
    "CREATE DATABASE IF NOT EXISTS bootcamp"
   ]
  },
  {
   "cell_type": "code",
   "execution_count": 10,
   "id": "bb1e7f8f-dd6e-4031-b3a7-72df72cd7c91",
   "metadata": {},
   "outputs": [
    {
     "data": {
      "text/html": [
       "<table>\n",
       "    <thead>\n",
       "        <tr>\n",
       "        </tr>\n",
       "    </thead>\n",
       "    <tbody>\n",
       "    </tbody>\n",
       "</table>"
      ],
      "text/plain": [
       "++\n",
       "||\n",
       "++\n",
       "++"
      ]
     },
     "execution_count": 10,
     "metadata": {},
     "output_type": "execute_result"
    }
   ],
   "source": [
    "%%sql\n",
    "DROP TABLE IF EXISTS bootcamp.match_details"
   ]
  },
  {
   "cell_type": "code",
   "execution_count": 11,
   "id": "4c9d43a5-3f9c-465d-949f-93bf1e9c60cc",
   "metadata": {},
   "outputs": [
    {
     "data": {
      "text/html": [
       "<table>\n",
       "    <thead>\n",
       "        <tr>\n",
       "        </tr>\n",
       "    </thead>\n",
       "    <tbody>\n",
       "    </tbody>\n",
       "</table>"
      ],
      "text/plain": [
       "++\n",
       "||\n",
       "++\n",
       "++"
      ]
     },
     "execution_count": 11,
     "metadata": {},
     "output_type": "execute_result"
    }
   ],
   "source": [
    "%%sql\n",
    "DROP TABLE IF EXISTS bootcamp.matches"
   ]
  },
  {
   "cell_type": "code",
   "execution_count": 12,
   "id": "66575bf8-b2b5-4709-b914-1c3339f0a5c6",
   "metadata": {},
   "outputs": [
    {
     "data": {
      "text/html": [
       "<table>\n",
       "    <thead>\n",
       "        <tr>\n",
       "        </tr>\n",
       "    </thead>\n",
       "    <tbody>\n",
       "    </tbody>\n",
       "</table>"
      ],
      "text/plain": [
       "++\n",
       "||\n",
       "++\n",
       "++"
      ]
     },
     "execution_count": 12,
     "metadata": {},
     "output_type": "execute_result"
    }
   ],
   "source": [
    "%%sql\n",
    "DROP TABLE IF EXISTS bootcamp.medals_matches_players"
   ]
  },
  {
   "cell_type": "code",
   "execution_count": 13,
   "id": "d1621a31-f3a8-432d-aa63-d570bbc368eb",
   "metadata": {},
   "outputs": [
    {
     "data": {
      "text/html": [
       "<table>\n",
       "    <thead>\n",
       "        <tr>\n",
       "        </tr>\n",
       "    </thead>\n",
       "    <tbody>\n",
       "    </tbody>\n",
       "</table>"
      ],
      "text/plain": [
       "++\n",
       "||\n",
       "++\n",
       "++"
      ]
     },
     "execution_count": 13,
     "metadata": {},
     "output_type": "execute_result"
    }
   ],
   "source": [
    "%%sql\n",
    "DROP TABLE IF EXISTS bootcamp.medals"
   ]
  },
  {
   "cell_type": "code",
   "execution_count": 14,
   "id": "d700160e-b371-4b73-9c14-18b6a48d6c27",
   "metadata": {},
   "outputs": [
    {
     "data": {
      "text/html": [
       "<table>\n",
       "    <thead>\n",
       "        <tr>\n",
       "        </tr>\n",
       "    </thead>\n",
       "    <tbody>\n",
       "    </tbody>\n",
       "</table>"
      ],
      "text/plain": [
       "++\n",
       "||\n",
       "++\n",
       "++"
      ]
     },
     "execution_count": 14,
     "metadata": {},
     "output_type": "execute_result"
    }
   ],
   "source": [
    "%%sql\n",
    "DROP TABLE IF EXISTS bootcamp.maps"
   ]
  },
  {
   "cell_type": "code",
   "execution_count": 15,
   "id": "b5945b6f-6b7c-44df-a4b8-58b5526994ef",
   "metadata": {},
   "outputs": [
    {
     "data": {
      "text/plain": [
       "[('match_id', 'string'),\n",
       " ('player_gamertag', 'string'),\n",
       " ('previous_spartan_rank', 'string'),\n",
       " ('spartan_rank', 'string'),\n",
       " ('previous_total_xp', 'string'),\n",
       " ('total_xp', 'string'),\n",
       " ('previous_csr_tier', 'string'),\n",
       " ('previous_csr_designation', 'string'),\n",
       " ('previous_csr', 'string'),\n",
       " ('previous_csr_percent_to_next_tier', 'string'),\n",
       " ('previous_csr_rank', 'string'),\n",
       " ('current_csr_tier', 'string'),\n",
       " ('current_csr_designation', 'string'),\n",
       " ('current_csr', 'string'),\n",
       " ('current_csr_percent_to_next_tier', 'string'),\n",
       " ('current_csr_rank', 'string'),\n",
       " ('player_rank_on_team', 'string'),\n",
       " ('player_finished', 'string'),\n",
       " ('player_average_life', 'string'),\n",
       " ('player_total_kills', 'string'),\n",
       " ('player_total_headshots', 'string'),\n",
       " ('player_total_weapon_damage', 'string'),\n",
       " ('player_total_shots_landed', 'string'),\n",
       " ('player_total_melee_kills', 'string'),\n",
       " ('player_total_melee_damage', 'string'),\n",
       " ('player_total_assassinations', 'string'),\n",
       " ('player_total_ground_pound_kills', 'string'),\n",
       " ('player_total_shoulder_bash_kills', 'string'),\n",
       " ('player_total_grenade_damage', 'string'),\n",
       " ('player_total_power_weapon_damage', 'string'),\n",
       " ('player_total_power_weapon_grabs', 'string'),\n",
       " ('player_total_deaths', 'string'),\n",
       " ('player_total_assists', 'string'),\n",
       " ('player_total_grenade_kills', 'string'),\n",
       " ('did_win', 'string'),\n",
       " ('team_id', 'string')]"
      ]
     },
     "execution_count": 15,
     "metadata": {},
     "output_type": "execute_result"
    }
   ],
   "source": [
    "match_details.dtypes"
   ]
  },
  {
   "cell_type": "code",
   "execution_count": 16,
   "id": "be6b3826-fd46-4c71-a76c-2de60a89bb21",
   "metadata": {},
   "outputs": [
    {
     "name": "stderr",
     "output_type": "stream",
     "text": [
      "                                                                                \r"
     ]
    },
    {
     "data": {
      "text/plain": [
       "69420"
      ]
     },
     "execution_count": 16,
     "metadata": {},
     "output_type": "execute_result"
    }
   ],
   "source": [
    "from pyspark.sql.functions import countDistinct\n",
    "unique_players_count = match_details.select(countDistinct('player_gamertag')).collect()[0][0]\n",
    "\n",
    "unique_players_count"
   ]
  },
  {
   "cell_type": "code",
   "execution_count": 17,
   "id": "4d1a0fd7-5801-4b24-a640-9b5d8d3e5521",
   "metadata": {},
   "outputs": [
    {
     "data": {
      "text/plain": [
       "8"
      ]
     },
     "execution_count": 17,
     "metadata": {},
     "output_type": "execute_result"
    }
   ],
   "source": [
    "unique_teams = match_details.select(countDistinct('team_id')).collect()[0][0]\n",
    "unique_teams"
   ]
  },
  {
   "cell_type": "code",
   "execution_count": 18,
   "id": "95e20215-150c-4abe-8dab-3640112038c0",
   "metadata": {},
   "outputs": [
    {
     "data": {
      "text/plain": [
       "19050"
      ]
     },
     "execution_count": 18,
     "metadata": {},
     "output_type": "execute_result"
    }
   ],
   "source": [
    "unique_matches = match_details.select(countDistinct('match_id')).collect()[0][0]\n",
    "unique_matches"
   ]
  },
  {
   "cell_type": "code",
   "execution_count": 19,
   "id": "59402f30-5cfe-498d-8f5d-8035ffc01443",
   "metadata": {},
   "outputs": [
    {
     "data": {
      "text/plain": [
       "151761"
      ]
     },
     "execution_count": 19,
     "metadata": {},
     "output_type": "execute_result"
    }
   ],
   "source": [
    "match_details.count()"
   ]
  },
  {
   "cell_type": "code",
   "execution_count": 20,
   "id": "ddbfa268-339c-40d5-a0b1-6ed8a142cc64",
   "metadata": {},
   "outputs": [
    {
     "data": {
      "text/html": [
       "<table>\n",
       "    <thead>\n",
       "        <tr>\n",
       "        </tr>\n",
       "    </thead>\n",
       "    <tbody>\n",
       "    </tbody>\n",
       "</table>"
      ],
      "text/plain": [
       "++\n",
       "||\n",
       "++\n",
       "++"
      ]
     },
     "execution_count": 20,
     "metadata": {},
     "output_type": "execute_result"
    }
   ],
   "source": [
    "%%sql\n",
    "CREATE TABLE\n",
    "  IF NOT EXISTS bootcamp.match_details (\n",
    "    match_id STRING,\n",
    "    player_gamertag STRING,\n",
    "    previous_spartan_rank INT,\n",
    "    spartan_rank INT,\n",
    "    previous_total_xp BIGINT,\n",
    "    total_xp BIGINT,\n",
    "    previous_csr_tier INT,\n",
    "    previous_csr_designation INT,\n",
    "    previous_csr INT,\n",
    "    previous_csr_percent_to_next_tier DOUBLE,\n",
    "    previous_csr_rank INT,\n",
    "    current_csr_tier INT,\n",
    "    current_csr_designation INT,\n",
    "    current_csr INT,\n",
    "    current_csr_percent_to_next_tier DOUBLE,\n",
    "    current_csr_rank INT,\n",
    "    player_rank_on_team INT,\n",
    "    player_finished BOOLEAN,\n",
    "    player_average_life STRING,\n",
    "    player_total_kills INT,\n",
    "    player_total_headshots INT,\n",
    "    player_total_weapon_damage DOUBLE,\n",
    "    player_total_shots_landed INT,\n",
    "    player_total_melee_kills INT,\n",
    "    player_total_melee_damage DOUBLE,\n",
    "    player_total_assassinations INT,\n",
    "    player_total_ground_pound_kills INT,\n",
    "    player_total_shoulder_bash_kills INT,\n",
    "    player_total_grenade_damage DOUBLE,\n",
    "    player_total_power_weapon_damage DOUBLE,\n",
    "    player_total_power_weapon_grabs INT,\n",
    "    player_total_deaths INT,\n",
    "    player_total_assists INT,\n",
    "    player_total_grenade_kills INT,\n",
    "    did_win BOOLEAN,\n",
    "    team_id INT\n",
    "  ) USING iceberg PARTITIONED BY (team_id)"
   ]
  },
  {
   "cell_type": "code",
   "execution_count": 21,
   "id": "91b23b94-c96a-4604-9ba3-ead4393c28ee",
   "metadata": {},
   "outputs": [
    {
     "data": {
      "text/plain": [
       "[('match_id', 'string'),\n",
       " ('mapid', 'string'),\n",
       " ('is_team_game', 'string'),\n",
       " ('playlist_id', 'string'),\n",
       " ('game_variant_id', 'string'),\n",
       " ('is_match_over', 'string'),\n",
       " ('completion_date', 'string'),\n",
       " ('match_duration', 'string'),\n",
       " ('game_mode', 'string'),\n",
       " ('map_variant_id', 'string')]"
      ]
     },
     "execution_count": 21,
     "metadata": {},
     "output_type": "execute_result"
    }
   ],
   "source": [
    "matches.dtypes"
   ]
  },
  {
   "cell_type": "code",
   "execution_count": 22,
   "id": "584e69df-8583-4b67-8b02-63226afd538d",
   "metadata": {},
   "outputs": [
    {
     "data": {
      "text/html": [
       "<table>\n",
       "    <thead>\n",
       "        <tr>\n",
       "        </tr>\n",
       "    </thead>\n",
       "    <tbody>\n",
       "    </tbody>\n",
       "</table>"
      ],
      "text/plain": [
       "++\n",
       "||\n",
       "++\n",
       "++"
      ]
     },
     "execution_count": 22,
     "metadata": {},
     "output_type": "execute_result"
    }
   ],
   "source": [
    "%%sql \n",
    "CREATE TABLE\n",
    "  IF NOT EXISTS bootcamp.matches (\n",
    "    match_id STRING,\n",
    "    mapid STRING,\n",
    "    is_team_game BOOLEAN,\n",
    "    playlist_id STRING,\n",
    "    game_variant_id STRING,\n",
    "    is_match_over BOOLEAN,\n",
    "    completion_date TIMESTAMP,\n",
    "    match_duration STRING,\n",
    "    game_mode STRING,\n",
    "    map_variant_id STRING,\n",
    "    partitioned_date DATE\n",
    "  ) USING iceberg PARTITIONED BY (mapid)"
   ]
  },
  {
   "cell_type": "code",
   "execution_count": 23,
   "id": "f18ac055-17f1-4830-958d-86f6e946afc2",
   "metadata": {},
   "outputs": [
    {
     "data": {
      "text/plain": [
       "[('match_id', 'string'),\n",
       " ('player_gamertag', 'string'),\n",
       " ('medal_id', 'string'),\n",
       " ('count', 'string')]"
      ]
     },
     "execution_count": 23,
     "metadata": {},
     "output_type": "execute_result"
    }
   ],
   "source": [
    "medals_matches_players.dtypes"
   ]
  },
  {
   "cell_type": "code",
   "execution_count": 24,
   "id": "c2a50ed9-635d-474e-9e04-4a0cf7883611",
   "metadata": {},
   "outputs": [
    {
     "data": {
      "text/html": [
       "<table>\n",
       "    <thead>\n",
       "        <tr>\n",
       "        </tr>\n",
       "    </thead>\n",
       "    <tbody>\n",
       "    </tbody>\n",
       "</table>"
      ],
      "text/plain": [
       "++\n",
       "||\n",
       "++\n",
       "++"
      ]
     },
     "execution_count": 24,
     "metadata": {},
     "output_type": "execute_result"
    }
   ],
   "source": [
    "%%sql\n",
    "CREATE TABLE\n",
    "  IF NOT EXISTS bootcamp.medals_matches_players (\n",
    "    match_id STRING,\n",
    "    player_gamertag STRING,\n",
    "    medal_id BIGINT,\n",
    "    COUNT INT\n",
    "  ) USING iceberg PARTITIONED BY (medal_id)"
   ]
  },
  {
   "cell_type": "code",
   "execution_count": 25,
   "id": "a209f485-3832-4258-a5c0-fb58ba0b1155",
   "metadata": {},
   "outputs": [
    {
     "data": {
      "text/plain": [
       "755229"
      ]
     },
     "execution_count": 25,
     "metadata": {},
     "output_type": "execute_result"
    }
   ],
   "source": [
    "medals_matches_players.count()"
   ]
  },
  {
   "cell_type": "code",
   "execution_count": 26,
   "id": "f4f30e80-5ae2-48c4-a564-ad6e326d70ea",
   "metadata": {},
   "outputs": [
    {
     "data": {
      "text/plain": [
       "[('medal_id', 'string'),\n",
       " ('sprite_uri', 'string'),\n",
       " ('sprite_left', 'string'),\n",
       " ('sprite_top', 'string'),\n",
       " ('sprite_sheet_width', 'string'),\n",
       " ('sprite_sheet_height', 'string'),\n",
       " ('sprite_width', 'string'),\n",
       " ('sprite_height', 'string'),\n",
       " ('classification', 'string'),\n",
       " ('description', 'string'),\n",
       " ('name', 'string'),\n",
       " ('difficulty', 'string')]"
      ]
     },
     "execution_count": 26,
     "metadata": {},
     "output_type": "execute_result"
    }
   ],
   "source": [
    "medals.dtypes"
   ]
  },
  {
   "cell_type": "code",
   "execution_count": 27,
   "id": "eceeb91c-05d5-49cc-97f0-11829dac1061",
   "metadata": {},
   "outputs": [
    {
     "data": {
      "text/plain": [
       "183"
      ]
     },
     "execution_count": 27,
     "metadata": {},
     "output_type": "execute_result"
    }
   ],
   "source": [
    "medals.count()"
   ]
  },
  {
   "cell_type": "code",
   "execution_count": 28,
   "id": "1be781c7-e2ec-4208-805e-71400945d882",
   "metadata": {},
   "outputs": [
    {
     "data": {
      "text/html": [
       "<table>\n",
       "    <thead>\n",
       "        <tr>\n",
       "        </tr>\n",
       "    </thead>\n",
       "    <tbody>\n",
       "    </tbody>\n",
       "</table>"
      ],
      "text/plain": [
       "++\n",
       "||\n",
       "++\n",
       "++"
      ]
     },
     "execution_count": 28,
     "metadata": {},
     "output_type": "execute_result"
    }
   ],
   "source": [
    "%%sql\n",
    "CREATE TABLE\n",
    "  IF NOT EXISTS bootcamp.medals (\n",
    "    medal_id BIGINT,\n",
    "    sprite_uri STRING,\n",
    "    sprite_left INT,\n",
    "    sprite_top INT,\n",
    "    sprite_sheet_width INT,\n",
    "    sprite_sheet_height INT,\n",
    "    sprite_width INT,\n",
    "    sprite_height INT,\n",
    "    classification STRING,\n",
    "    description STRING,\n",
    "    name STRING,\n",
    "    difficulty INT\n",
    "  ) USING iceberg"
   ]
  },
  {
   "cell_type": "code",
   "execution_count": 29,
   "id": "bcdd1733-2011-482c-a667-e41147740f32",
   "metadata": {},
   "outputs": [
    {
     "name": "stdout",
     "output_type": "stream",
     "text": [
      "+--------------------+-------------------+--------------------+\n",
      "|               mapid|               name|         description|\n",
      "+--------------------+-------------------+--------------------+\n",
      "|c93d708f-f206-11e...|              Urban|Andesia was the c...|\n",
      "|cb251c51-f206-11e...|     Raid on Apex 7|This unbroken rin...|\n",
      "|c854e54f-f206-11e...|March on Stormbreak|                NULL|\n",
      "|c8d69870-f206-11e...| Escape from A.R.C.|Scientists flocke...|\n",
      "|73ed1fd0-45e5-4bb...|             Osiris|                NULL|\n",
      "+--------------------+-------------------+--------------------+\n",
      "only showing top 5 rows\n",
      "\n"
     ]
    }
   ],
   "source": [
    "maps = spark.read.option(\"header\", \"true\").csv(\"/home/iceberg/data/maps.csv\")\n",
    "maps.show(5)"
   ]
  },
  {
   "cell_type": "code",
   "execution_count": 30,
   "id": "8fc98b73-60e6-464f-8f9d-5b2586e55db4",
   "metadata": {},
   "outputs": [
    {
     "data": {
      "text/plain": [
       "40"
      ]
     },
     "execution_count": 30,
     "metadata": {},
     "output_type": "execute_result"
    }
   ],
   "source": [
    "maps.count()"
   ]
  },
  {
   "cell_type": "code",
   "execution_count": 31,
   "id": "c863b866-7bfb-4bc6-b228-36bf5ec460fa",
   "metadata": {},
   "outputs": [
    {
     "data": {
      "text/html": [
       "<table>\n",
       "    <thead>\n",
       "        <tr>\n",
       "        </tr>\n",
       "    </thead>\n",
       "    <tbody>\n",
       "    </tbody>\n",
       "</table>"
      ],
      "text/plain": [
       "++\n",
       "||\n",
       "++\n",
       "++"
      ]
     },
     "execution_count": 31,
     "metadata": {},
     "output_type": "execute_result"
    }
   ],
   "source": [
    "%%sql\n",
    "CREATE TABLE\n",
    "  IF NOT EXISTS bootcamp.maps (mapid STRING, name STRING, description STRING) USING iceberg"
   ]
  },
  {
   "cell_type": "markdown",
   "id": "9224ba73-9612-4e6e-af93-aeaa30850c44",
   "metadata": {},
   "source": [
    "## 1. Disable automatic broadcast join with spark.conf.set(\"spark.sql.autoBroadcastJoinThreshold\", \"-1\")\n",
    "# joins default to broadcast join if we let it."
   ]
  },
  {
   "cell_type": "code",
   "execution_count": 32,
   "id": "2f5fec26-b5c0-4dd8-8800-e45a45f641b2",
   "metadata": {},
   "outputs": [],
   "source": [
    "spark.conf.set(\"spark.sql.autoBroadcastJoinThreshold\", \"-1\")"
   ]
  },
  {
   "cell_type": "code",
   "execution_count": 33,
   "id": "f0ec4f13-016c-4f00-96c7-0726690297b1",
   "metadata": {},
   "outputs": [
    {
     "name": "stdout",
     "output_type": "stream",
     "text": [
      "-1\n"
     ]
    }
   ],
   "source": [
    "print(spark.conf.get(\"spark.sql.autoBroadcastJoinThreshold\"))"
   ]
  },
  {
   "cell_type": "markdown",
   "id": "e3204ea1-6fd4-4386-9aa7-517bcd1a5cbe",
   "metadata": {},
   "source": [
    "### Write the data to the database"
   ]
  },
  {
   "cell_type": "code",
   "execution_count": 34,
   "id": "bf5a0761-fd03-456f-a6b2-f3e03eb2e1a7",
   "metadata": {},
   "outputs": [
    {
     "name": "stderr",
     "output_type": "stream",
     "text": [
      "                                                                                \r"
     ]
    }
   ],
   "source": [
    "match_details.write.mode(\"overwrite\").saveAsTable(\"bootcamp.match_details\")\n",
    "matches.write.mode(\"overwrite\").saveAsTable(\"bootcamp.matches\")\n",
    "medals_matches_players.write.mode(\"overwrite\").saveAsTable(\"bootcamp.medals_matches_players\")\n",
    "medals.write.mode(\"overwrite\").saveAsTable(\"bootcamp.medals\")\n",
    "maps.write.mode(\"overwrite\").saveAsTable(\"bootcamp.maps\")"
   ]
  },
  {
   "cell_type": "code",
   "execution_count": 35,
   "id": "9993e6c4-d126-4a8c-a1ad-95aaa9c8afab",
   "metadata": {},
   "outputs": [
    {
     "data": {
      "text/html": [
       "<table>\n",
       "    <thead>\n",
       "        <tr>\n",
       "            <th>match_id</th>\n",
       "            <th>player_gamertag</th>\n",
       "            <th>previous_spartan_rank</th>\n",
       "            <th>spartan_rank</th>\n",
       "            <th>previous_total_xp</th>\n",
       "            <th>total_xp</th>\n",
       "            <th>previous_csr_tier</th>\n",
       "            <th>previous_csr_designation</th>\n",
       "            <th>previous_csr</th>\n",
       "            <th>previous_csr_percent_to_next_tier</th>\n",
       "            <th>previous_csr_rank</th>\n",
       "            <th>current_csr_tier</th>\n",
       "            <th>current_csr_designation</th>\n",
       "            <th>current_csr</th>\n",
       "            <th>current_csr_percent_to_next_tier</th>\n",
       "            <th>current_csr_rank</th>\n",
       "            <th>player_rank_on_team</th>\n",
       "            <th>player_finished</th>\n",
       "            <th>player_average_life</th>\n",
       "            <th>player_total_kills</th>\n",
       "            <th>player_total_headshots</th>\n",
       "            <th>player_total_weapon_damage</th>\n",
       "            <th>player_total_shots_landed</th>\n",
       "            <th>player_total_melee_kills</th>\n",
       "            <th>player_total_melee_damage</th>\n",
       "            <th>player_total_assassinations</th>\n",
       "            <th>player_total_ground_pound_kills</th>\n",
       "            <th>player_total_shoulder_bash_kills</th>\n",
       "            <th>player_total_grenade_damage</th>\n",
       "            <th>player_total_power_weapon_damage</th>\n",
       "            <th>player_total_power_weapon_grabs</th>\n",
       "            <th>player_total_deaths</th>\n",
       "            <th>player_total_assists</th>\n",
       "            <th>player_total_grenade_kills</th>\n",
       "            <th>did_win</th>\n",
       "            <th>team_id</th>\n",
       "        </tr>\n",
       "    </thead>\n",
       "    <tbody>\n",
       "        <tr>\n",
       "            <td>71d79b23-4143-4359-a62e-489a27597b23</td>\n",
       "            <td>taterbase</td>\n",
       "            <td>5</td>\n",
       "            <td>5</td>\n",
       "            <td>12537</td>\n",
       "            <td>13383</td>\n",
       "            <td>1</td>\n",
       "            <td>3</td>\n",
       "            <td>0</td>\n",
       "            <td>98</td>\n",
       "            <td>None</td>\n",
       "            <td>2</td>\n",
       "            <td>3</td>\n",
       "            <td>0</td>\n",
       "            <td>26</td>\n",
       "            <td>None</td>\n",
       "            <td>4</td>\n",
       "            <td>false</td>\n",
       "            <td>PT14.81149S</td>\n",
       "            <td>6</td>\n",
       "            <td>4</td>\n",
       "            <td>255</td>\n",
       "            <td>28</td>\n",
       "            <td>0</td>\n",
       "            <td>0</td>\n",
       "            <td>0</td>\n",
       "            <td>0</td>\n",
       "            <td>0</td>\n",
       "            <td>0</td>\n",
       "            <td>0</td>\n",
       "            <td>0</td>\n",
       "            <td>13</td>\n",
       "            <td>1</td>\n",
       "            <td>0</td>\n",
       "            <td>1</td>\n",
       "            <td>1</td>\n",
       "        </tr>\n",
       "        <tr>\n",
       "            <td>71d79b23-4143-4359-a62e-489a27597b23</td>\n",
       "            <td>SuPeRSaYaInG0D</td>\n",
       "            <td>18</td>\n",
       "            <td>18</td>\n",
       "            <td>131943</td>\n",
       "            <td>132557</td>\n",
       "            <td>2</td>\n",
       "            <td>3</td>\n",
       "            <td>0</td>\n",
       "            <td>2</td>\n",
       "            <td>None</td>\n",
       "            <td>1</td>\n",
       "            <td>3</td>\n",
       "            <td>0</td>\n",
       "            <td>76</td>\n",
       "            <td>None</td>\n",
       "            <td>7</td>\n",
       "            <td>false</td>\n",
       "            <td>PT11.2990845S</td>\n",
       "            <td>7</td>\n",
       "            <td>3</td>\n",
       "            <td>350.58792304992676</td>\n",
       "            <td>49</td>\n",
       "            <td>1</td>\n",
       "            <td>45</td>\n",
       "            <td>0</td>\n",
       "            <td>0</td>\n",
       "            <td>0</td>\n",
       "            <td>0</td>\n",
       "            <td>0</td>\n",
       "            <td>0</td>\n",
       "            <td>18</td>\n",
       "            <td>2</td>\n",
       "            <td>0</td>\n",
       "            <td>0</td>\n",
       "            <td>0</td>\n",
       "        </tr>\n",
       "        <tr>\n",
       "            <td>71d79b23-4143-4359-a62e-489a27597b23</td>\n",
       "            <td>EcZachly</td>\n",
       "            <td>21</td>\n",
       "            <td>21</td>\n",
       "            <td>168811</td>\n",
       "            <td>169762</td>\n",
       "            <td>2</td>\n",
       "            <td>5</td>\n",
       "            <td>0</td>\n",
       "            <td>94</td>\n",
       "            <td>None</td>\n",
       "            <td>3</td>\n",
       "            <td>5</td>\n",
       "            <td>0</td>\n",
       "            <td>24</td>\n",
       "            <td>None</td>\n",
       "            <td>3</td>\n",
       "            <td>false</td>\n",
       "            <td>PT19.1357063S</td>\n",
       "            <td>12</td>\n",
       "            <td>12</td>\n",
       "            <td>625</td>\n",
       "            <td>43</td>\n",
       "            <td>0</td>\n",
       "            <td>0</td>\n",
       "            <td>0</td>\n",
       "            <td>0</td>\n",
       "            <td>0</td>\n",
       "            <td>0</td>\n",
       "            <td>0</td>\n",
       "            <td>0</td>\n",
       "            <td>10</td>\n",
       "            <td>4</td>\n",
       "            <td>0</td>\n",
       "            <td>1</td>\n",
       "            <td>1</td>\n",
       "        </tr>\n",
       "        <tr>\n",
       "            <td>71d79b23-4143-4359-a62e-489a27597b23</td>\n",
       "            <td>johnsnake04</td>\n",
       "            <td>14</td>\n",
       "            <td>14</td>\n",
       "            <td>64073</td>\n",
       "            <td>64639</td>\n",
       "            <td>None</td>\n",
       "            <td>None</td>\n",
       "            <td>None</td>\n",
       "            <td>None</td>\n",
       "            <td>None</td>\n",
       "            <td>None</td>\n",
       "            <td>None</td>\n",
       "            <td>None</td>\n",
       "            <td>None</td>\n",
       "            <td>None</td>\n",
       "            <td>6</td>\n",
       "            <td>false</td>\n",
       "            <td>PT21.1521599S</td>\n",
       "            <td>13</td>\n",
       "            <td>13</td>\n",
       "            <td>605</td>\n",
       "            <td>24</td>\n",
       "            <td>0</td>\n",
       "            <td>0</td>\n",
       "            <td>0</td>\n",
       "            <td>0</td>\n",
       "            <td>0</td>\n",
       "            <td>0</td>\n",
       "            <td>0</td>\n",
       "            <td>0</td>\n",
       "            <td>9</td>\n",
       "            <td>2</td>\n",
       "            <td>0</td>\n",
       "            <td>0</td>\n",
       "            <td>0</td>\n",
       "        </tr>\n",
       "        <tr>\n",
       "            <td>71d79b23-4143-4359-a62e-489a27597b23</td>\n",
       "            <td>Super Mac Bros</td>\n",
       "            <td>26</td>\n",
       "            <td>26</td>\n",
       "            <td>243425</td>\n",
       "            <td>244430</td>\n",
       "            <td>1</td>\n",
       "            <td>5</td>\n",
       "            <td>0</td>\n",
       "            <td>86</td>\n",
       "            <td>None</td>\n",
       "            <td>2</td>\n",
       "            <td>5</td>\n",
       "            <td>0</td>\n",
       "            <td>8</td>\n",
       "            <td>None</td>\n",
       "            <td>2</td>\n",
       "            <td>false</td>\n",
       "            <td>PT12.8373793S</td>\n",
       "            <td>13</td>\n",
       "            <td>12</td>\n",
       "            <td>595</td>\n",
       "            <td>32</td>\n",
       "            <td>1</td>\n",
       "            <td>20.004501342773438</td>\n",
       "            <td>0</td>\n",
       "            <td>0</td>\n",
       "            <td>0</td>\n",
       "            <td>0</td>\n",
       "            <td>0</td>\n",
       "            <td>0</td>\n",
       "            <td>15</td>\n",
       "            <td>2</td>\n",
       "            <td>0</td>\n",
       "            <td>1</td>\n",
       "            <td>1</td>\n",
       "        </tr>\n",
       "    </tbody>\n",
       "</table>"
      ],
      "text/plain": [
       "+--------------------------------------+-----------------+-----------------------+--------------+-------------------+----------+-------------------+--------------------------+--------------+-----------------------------------+-------------------+------------------+-------------------------+-------------+----------------------------------+------------------+---------------------+-----------------+---------------------+--------------------+------------------------+----------------------------+---------------------------+--------------------------+---------------------------+-----------------------------+---------------------------------+----------------------------------+-----------------------------+----------------------------------+---------------------------------+---------------------+----------------------+----------------------------+---------+---------+\n",
       "|                             match_id | player_gamertag | previous_spartan_rank | spartan_rank | previous_total_xp | total_xp | previous_csr_tier | previous_csr_designation | previous_csr | previous_csr_percent_to_next_tier | previous_csr_rank | current_csr_tier | current_csr_designation | current_csr | current_csr_percent_to_next_tier | current_csr_rank | player_rank_on_team | player_finished | player_average_life | player_total_kills | player_total_headshots | player_total_weapon_damage | player_total_shots_landed | player_total_melee_kills | player_total_melee_damage | player_total_assassinations | player_total_ground_pound_kills | player_total_shoulder_bash_kills | player_total_grenade_damage | player_total_power_weapon_damage | player_total_power_weapon_grabs | player_total_deaths | player_total_assists | player_total_grenade_kills | did_win | team_id |\n",
       "+--------------------------------------+-----------------+-----------------------+--------------+-------------------+----------+-------------------+--------------------------+--------------+-----------------------------------+-------------------+------------------+-------------------------+-------------+----------------------------------+------------------+---------------------+-----------------+---------------------+--------------------+------------------------+----------------------------+---------------------------+--------------------------+---------------------------+-----------------------------+---------------------------------+----------------------------------+-----------------------------+----------------------------------+---------------------------------+---------------------+----------------------+----------------------------+---------+---------+\n",
       "| 71d79b23-4143-4359-a62e-489a27597b23 |       taterbase |                     5 |            5 |             12537 |    13383 |                 1 |                        3 |            0 |                                98 |              None |                2 |                       3 |           0 |                               26 |             None |                   4 |           false |         PT14.81149S |                  6 |                      4 |                        255 |                        28 |                        0 |                         0 |                           0 |                               0 |                                0 |                           0 |                                0 |                               0 |                  13 |                    1 |                          0 |       1 |       1 |\n",
       "| 71d79b23-4143-4359-a62e-489a27597b23 |  SuPeRSaYaInG0D |                    18 |           18 |            131943 |   132557 |                 2 |                        3 |            0 |                                 2 |              None |                1 |                       3 |           0 |                               76 |             None |                   7 |           false |       PT11.2990845S |                  7 |                      3 |         350.58792304992676 |                        49 |                        1 |                        45 |                           0 |                               0 |                                0 |                           0 |                                0 |                               0 |                  18 |                    2 |                          0 |       0 |       0 |\n",
       "| 71d79b23-4143-4359-a62e-489a27597b23 |        EcZachly |                    21 |           21 |            168811 |   169762 |                 2 |                        5 |            0 |                                94 |              None |                3 |                       5 |           0 |                               24 |             None |                   3 |           false |       PT19.1357063S |                 12 |                     12 |                        625 |                        43 |                        0 |                         0 |                           0 |                               0 |                                0 |                           0 |                                0 |                               0 |                  10 |                    4 |                          0 |       1 |       1 |\n",
       "| 71d79b23-4143-4359-a62e-489a27597b23 |     johnsnake04 |                    14 |           14 |             64073 |    64639 |              None |                     None |         None |                              None |              None |             None |                    None |        None |                             None |             None |                   6 |           false |       PT21.1521599S |                 13 |                     13 |                        605 |                        24 |                        0 |                         0 |                           0 |                               0 |                                0 |                           0 |                                0 |                               0 |                   9 |                    2 |                          0 |       0 |       0 |\n",
       "| 71d79b23-4143-4359-a62e-489a27597b23 |  Super Mac Bros |                    26 |           26 |            243425 |   244430 |                 1 |                        5 |            0 |                                86 |              None |                2 |                       5 |           0 |                                8 |             None |                   2 |           false |       PT12.8373793S |                 13 |                     12 |                        595 |                        32 |                        1 |        20.004501342773438 |                           0 |                               0 |                                0 |                           0 |                                0 |                               0 |                  15 |                    2 |                          0 |       1 |       1 |\n",
       "+--------------------------------------+-----------------+-----------------------+--------------+-------------------+----------+-------------------+--------------------------+--------------+-----------------------------------+-------------------+------------------+-------------------------+-------------+----------------------------------+------------------+---------------------+-----------------+---------------------+--------------------+------------------------+----------------------------+---------------------------+--------------------------+---------------------------+-----------------------------+---------------------------------+----------------------------------+-----------------------------+----------------------------------+---------------------------------+---------------------+----------------------+----------------------------+---------+---------+"
      ]
     },
     "execution_count": 35,
     "metadata": {},
     "output_type": "execute_result"
    }
   ],
   "source": [
    "%%sql\n",
    "SELECT\n",
    "  *\n",
    "FROM\n",
    "  bootcamp.match_details\n",
    "LIMIT\n",
    "  5"
   ]
  },
  {
   "cell_type": "code",
   "execution_count": 36,
   "id": "c3642142-3aec-493e-88cf-6abe5d834fcb",
   "metadata": {},
   "outputs": [
    {
     "data": {
      "text/html": [
       "<table>\n",
       "    <thead>\n",
       "        <tr>\n",
       "            <th>match_id</th>\n",
       "            <th>mapid</th>\n",
       "            <th>is_team_game</th>\n",
       "            <th>playlist_id</th>\n",
       "            <th>game_variant_id</th>\n",
       "            <th>is_match_over</th>\n",
       "            <th>completion_date</th>\n",
       "            <th>match_duration</th>\n",
       "            <th>game_mode</th>\n",
       "            <th>map_variant_id</th>\n",
       "        </tr>\n",
       "    </thead>\n",
       "    <tbody>\n",
       "        <tr>\n",
       "            <td>11de1a94-8d07-4162-9f5f-d3cc753c811c</td>\n",
       "            <td>c7edbf0f-f206-11e4-aa52-24be05e24f7e</td>\n",
       "            <td>true</td>\n",
       "            <td>f72e0ef0-7c4a-4307-af78-8e38dac3fdba</td>\n",
       "            <td>1e473914-46e4-408d-af26-178fb115de76</td>\n",
       "            <td>true</td>\n",
       "            <td>2016-02-22 00:00:00.000000</td>\n",
       "            <td>None</td>\n",
       "            <td>None</td>\n",
       "            <td>None</td>\n",
       "        </tr>\n",
       "        <tr>\n",
       "            <td>d3643e71-3e51-43e6-a200-f4a7f306ac12</td>\n",
       "            <td>cb914b9e-f206-11e4-b447-24be05e24f7e</td>\n",
       "            <td>false</td>\n",
       "            <td>d0766624-dbd7-4536-ba39-2d890a6143a9</td>\n",
       "            <td>257a305e-4dd3-41f1-9824-dfe7e8bd59e1</td>\n",
       "            <td>true</td>\n",
       "            <td>2016-02-14 00:00:00.000000</td>\n",
       "            <td>None</td>\n",
       "            <td>None</td>\n",
       "            <td>None</td>\n",
       "        </tr>\n",
       "        <tr>\n",
       "            <td>d78d2aae-36e4-48ac-a3b5-6d4d90f90ace</td>\n",
       "            <td>c7edbf0f-f206-11e4-aa52-24be05e24f7e</td>\n",
       "            <td>true</td>\n",
       "            <td>f72e0ef0-7c4a-4307-af78-8e38dac3fdba</td>\n",
       "            <td>1e473914-46e4-408d-af26-178fb115de76</td>\n",
       "            <td>true</td>\n",
       "            <td>2016-03-24 00:00:00.000000</td>\n",
       "            <td>None</td>\n",
       "            <td>None</td>\n",
       "            <td>55e5ee2e-88df-4657-b9ae-b6ec7ca64614</td>\n",
       "        </tr>\n",
       "        <tr>\n",
       "            <td>b440069e-ec5f-4f51-bdd1-bc0bc7fe1195</td>\n",
       "            <td>c7edbf0f-f206-11e4-aa52-24be05e24f7e</td>\n",
       "            <td>true</td>\n",
       "            <td>f72e0ef0-7c4a-4307-af78-8e38dac3fdba</td>\n",
       "            <td>1e473914-46e4-408d-af26-178fb115de76</td>\n",
       "            <td>true</td>\n",
       "            <td>2015-12-23 00:00:00.000000</td>\n",
       "            <td>None</td>\n",
       "            <td>None</td>\n",
       "            <td>ec3eef73-13e3-4d4b-a922-cc195109a842</td>\n",
       "        </tr>\n",
       "        <tr>\n",
       "            <td>1dd475fc-ee6b-4e1d-8140-c44d03812076</td>\n",
       "            <td>c93d708f-f206-11e4-a815-24be05e24f7e</td>\n",
       "            <td>true</td>\n",
       "            <td>0e39ead4-383b-4452-bbd4-babb7becd82e</td>\n",
       "            <td>42f97cca-2cb4-497a-a0fd-ceef1ba46bcc</td>\n",
       "            <td>true</td>\n",
       "            <td>2016-04-07 00:00:00.000000</td>\n",
       "            <td>None</td>\n",
       "            <td>None</td>\n",
       "            <td>None</td>\n",
       "        </tr>\n",
       "    </tbody>\n",
       "</table>"
      ],
      "text/plain": [
       "+--------------------------------------+--------------------------------------+--------------+--------------------------------------+--------------------------------------+---------------+----------------------------+----------------+-----------+--------------------------------------+\n",
       "|                             match_id |                                mapid | is_team_game |                          playlist_id |                      game_variant_id | is_match_over |            completion_date | match_duration | game_mode |                       map_variant_id |\n",
       "+--------------------------------------+--------------------------------------+--------------+--------------------------------------+--------------------------------------+---------------+----------------------------+----------------+-----------+--------------------------------------+\n",
       "| 11de1a94-8d07-4162-9f5f-d3cc753c811c | c7edbf0f-f206-11e4-aa52-24be05e24f7e |         true | f72e0ef0-7c4a-4307-af78-8e38dac3fdba | 1e473914-46e4-408d-af26-178fb115de76 |          true | 2016-02-22 00:00:00.000000 |           None |      None |                                 None |\n",
       "| d3643e71-3e51-43e6-a200-f4a7f306ac12 | cb914b9e-f206-11e4-b447-24be05e24f7e |        false | d0766624-dbd7-4536-ba39-2d890a6143a9 | 257a305e-4dd3-41f1-9824-dfe7e8bd59e1 |          true | 2016-02-14 00:00:00.000000 |           None |      None |                                 None |\n",
       "| d78d2aae-36e4-48ac-a3b5-6d4d90f90ace | c7edbf0f-f206-11e4-aa52-24be05e24f7e |         true | f72e0ef0-7c4a-4307-af78-8e38dac3fdba | 1e473914-46e4-408d-af26-178fb115de76 |          true | 2016-03-24 00:00:00.000000 |           None |      None | 55e5ee2e-88df-4657-b9ae-b6ec7ca64614 |\n",
       "| b440069e-ec5f-4f51-bdd1-bc0bc7fe1195 | c7edbf0f-f206-11e4-aa52-24be05e24f7e |         true | f72e0ef0-7c4a-4307-af78-8e38dac3fdba | 1e473914-46e4-408d-af26-178fb115de76 |          true | 2015-12-23 00:00:00.000000 |           None |      None | ec3eef73-13e3-4d4b-a922-cc195109a842 |\n",
       "| 1dd475fc-ee6b-4e1d-8140-c44d03812076 | c93d708f-f206-11e4-a815-24be05e24f7e |         true | 0e39ead4-383b-4452-bbd4-babb7becd82e | 42f97cca-2cb4-497a-a0fd-ceef1ba46bcc |          true | 2016-04-07 00:00:00.000000 |           None |      None |                                 None |\n",
       "+--------------------------------------+--------------------------------------+--------------+--------------------------------------+--------------------------------------+---------------+----------------------------+----------------+-----------+--------------------------------------+"
      ]
     },
     "execution_count": 36,
     "metadata": {},
     "output_type": "execute_result"
    }
   ],
   "source": [
    "%%sql\n",
    "SELECT\n",
    "  *\n",
    "FROM\n",
    "  bootcamp.matches\n",
    "LIMIT\n",
    "  5"
   ]
  },
  {
   "cell_type": "code",
   "execution_count": 37,
   "id": "5c7ca7b1-19a4-45f4-aae5-3ff1f575bf21",
   "metadata": {},
   "outputs": [
    {
     "data": {
      "text/html": [
       "<table>\n",
       "    <thead>\n",
       "        <tr>\n",
       "            <th>match_id</th>\n",
       "            <th>player_gamertag</th>\n",
       "            <th>medal_id</th>\n",
       "            <th>count</th>\n",
       "        </tr>\n",
       "    </thead>\n",
       "    <tbody>\n",
       "        <tr>\n",
       "            <td>009fdac5-e15c-47c6-a202-e18ff8800ce7</td>\n",
       "            <td>EcZachly</td>\n",
       "            <td>3261908037</td>\n",
       "            <td>7</td>\n",
       "        </tr>\n",
       "        <tr>\n",
       "            <td>009fdac5-e15c-47c6-a202-e18ff8800ce7</td>\n",
       "            <td>EcZachly</td>\n",
       "            <td>824733727</td>\n",
       "            <td>2</td>\n",
       "        </tr>\n",
       "        <tr>\n",
       "            <td>009fdac5-e15c-47c6-a202-e18ff8800ce7</td>\n",
       "            <td>EcZachly</td>\n",
       "            <td>2078758684</td>\n",
       "            <td>2</td>\n",
       "        </tr>\n",
       "        <tr>\n",
       "            <td>009fdac5-e15c-47c6-a202-e18ff8800ce7</td>\n",
       "            <td>EcZachly</td>\n",
       "            <td>2782465081</td>\n",
       "            <td>2</td>\n",
       "        </tr>\n",
       "        <tr>\n",
       "            <td>9169d1a3-955c-4ea9-a9a4-6d57da097660</td>\n",
       "            <td>EcZachly</td>\n",
       "            <td>3001183151</td>\n",
       "            <td>1</td>\n",
       "        </tr>\n",
       "    </tbody>\n",
       "</table>"
      ],
      "text/plain": [
       "+--------------------------------------+-----------------+------------+-------+\n",
       "|                             match_id | player_gamertag |   medal_id | count |\n",
       "+--------------------------------------+-----------------+------------+-------+\n",
       "| 009fdac5-e15c-47c6-a202-e18ff8800ce7 |        EcZachly | 3261908037 |     7 |\n",
       "| 009fdac5-e15c-47c6-a202-e18ff8800ce7 |        EcZachly |  824733727 |     2 |\n",
       "| 009fdac5-e15c-47c6-a202-e18ff8800ce7 |        EcZachly | 2078758684 |     2 |\n",
       "| 009fdac5-e15c-47c6-a202-e18ff8800ce7 |        EcZachly | 2782465081 |     2 |\n",
       "| 9169d1a3-955c-4ea9-a9a4-6d57da097660 |        EcZachly | 3001183151 |     1 |\n",
       "+--------------------------------------+-----------------+------------+-------+"
      ]
     },
     "execution_count": 37,
     "metadata": {},
     "output_type": "execute_result"
    }
   ],
   "source": [
    "%%sql\n",
    "SELECT\n",
    "  *\n",
    "FROM\n",
    "  bootcamp.medals_matches_players\n",
    "LIMIT\n",
    "  5"
   ]
  },
  {
   "cell_type": "code",
   "execution_count": 38,
   "id": "2180f911-9aa1-4334-a720-7d8e034f0911",
   "metadata": {},
   "outputs": [
    {
     "data": {
      "text/html": [
       "<table>\n",
       "    <thead>\n",
       "        <tr>\n",
       "            <th>medal_id</th>\n",
       "            <th>sprite_uri</th>\n",
       "            <th>sprite_left</th>\n",
       "            <th>sprite_top</th>\n",
       "            <th>sprite_sheet_width</th>\n",
       "            <th>sprite_sheet_height</th>\n",
       "            <th>sprite_width</th>\n",
       "            <th>sprite_height</th>\n",
       "            <th>classification</th>\n",
       "            <th>description</th>\n",
       "            <th>name</th>\n",
       "            <th>difficulty</th>\n",
       "        </tr>\n",
       "    </thead>\n",
       "    <tbody>\n",
       "        <tr>\n",
       "            <td>2315448068</td>\n",
       "            <td>None</td>\n",
       "            <td>None</td>\n",
       "            <td>None</td>\n",
       "            <td>None</td>\n",
       "            <td>None</td>\n",
       "            <td>None</td>\n",
       "            <td>None</td>\n",
       "            <td>None</td>\n",
       "            <td>None</td>\n",
       "            <td>None</td>\n",
       "            <td>None</td>\n",
       "        </tr>\n",
       "        <tr>\n",
       "            <td>3565441934</td>\n",
       "            <td>None</td>\n",
       "            <td>None</td>\n",
       "            <td>None</td>\n",
       "            <td>None</td>\n",
       "            <td>None</td>\n",
       "            <td>None</td>\n",
       "            <td>None</td>\n",
       "            <td>None</td>\n",
       "            <td>None</td>\n",
       "            <td>None</td>\n",
       "            <td>None</td>\n",
       "        </tr>\n",
       "        <tr>\n",
       "            <td>4162659350</td>\n",
       "            <td>https://content.halocdn.com/media/Default/games/halo-5-guardians/sprites/medalspritesheet-be288ea5c0994a4e9d36f43aee7bc631.png</td>\n",
       "            <td>750</td>\n",
       "            <td>750</td>\n",
       "            <td>74</td>\n",
       "            <td>74</td>\n",
       "            <td>1125</td>\n",
       "            <td>899</td>\n",
       "            <td>Breakout</td>\n",
       "            <td>Kill the last enemy within the last 10 seconds of a round.</td>\n",
       "            <td>Buzzer Beater</td>\n",
       "            <td>45</td>\n",
       "        </tr>\n",
       "        <tr>\n",
       "            <td>1573153198</td>\n",
       "            <td>https://content.halocdn.com/media/Default/games/halo-5-guardians/sprites/medalspritesheet-be288ea5c0994a4e9d36f43aee7bc631.png</td>\n",
       "            <td>0</td>\n",
       "            <td>300</td>\n",
       "            <td>74</td>\n",
       "            <td>74</td>\n",
       "            <td>1125</td>\n",
       "            <td>899</td>\n",
       "            <td>Breakout</td>\n",
       "            <td>Survive a one-on-one encounter.</td>\n",
       "            <td>Vanquisher</td>\n",
       "            <td>30</td>\n",
       "        </tr>\n",
       "        <tr>\n",
       "            <td>298813630</td>\n",
       "            <td>https://content.halocdn.com/media/Default/games/halo-5-guardians/sprites/medalspritesheet-be288ea5c0994a4e9d36f43aee7bc631.png</td>\n",
       "            <td>0</td>\n",
       "            <td>825</td>\n",
       "            <td>74</td>\n",
       "            <td>74</td>\n",
       "            <td>1125</td>\n",
       "            <td>899</td>\n",
       "            <td>Style</td>\n",
       "            <td>Kill an enemy with Spartan Charge.</td>\n",
       "            <td>Spartan Charge</td>\n",
       "            <td>135</td>\n",
       "        </tr>\n",
       "    </tbody>\n",
       "</table>"
      ],
      "text/plain": [
       "+------------+--------------------------------------------------------------------------------------------------------------------------------+-------------+------------+--------------------+---------------------+--------------+---------------+----------------+------------------------------------------------------------+----------------+------------+\n",
       "|   medal_id |                                                                                                                     sprite_uri | sprite_left | sprite_top | sprite_sheet_width | sprite_sheet_height | sprite_width | sprite_height | classification |                                                description |           name | difficulty |\n",
       "+------------+--------------------------------------------------------------------------------------------------------------------------------+-------------+------------+--------------------+---------------------+--------------+---------------+----------------+------------------------------------------------------------+----------------+------------+\n",
       "| 2315448068 |                                                                                                                           None |        None |       None |               None |                None |         None |          None |           None |                                                       None |           None |       None |\n",
       "| 3565441934 |                                                                                                                           None |        None |       None |               None |                None |         None |          None |           None |                                                       None |           None |       None |\n",
       "| 4162659350 | https://content.halocdn.com/media/Default/games/halo-5-guardians/sprites/medalspritesheet-be288ea5c0994a4e9d36f43aee7bc631.png |         750 |        750 |                 74 |                  74 |         1125 |           899 |       Breakout | Kill the last enemy within the last 10 seconds of a round. |  Buzzer Beater |         45 |\n",
       "| 1573153198 | https://content.halocdn.com/media/Default/games/halo-5-guardians/sprites/medalspritesheet-be288ea5c0994a4e9d36f43aee7bc631.png |           0 |        300 |                 74 |                  74 |         1125 |           899 |       Breakout |                            Survive a one-on-one encounter. |     Vanquisher |         30 |\n",
       "|  298813630 | https://content.halocdn.com/media/Default/games/halo-5-guardians/sprites/medalspritesheet-be288ea5c0994a4e9d36f43aee7bc631.png |           0 |        825 |                 74 |                  74 |         1125 |           899 |          Style |                         Kill an enemy with Spartan Charge. | Spartan Charge |        135 |\n",
       "+------------+--------------------------------------------------------------------------------------------------------------------------------+-------------+------------+--------------------+---------------------+--------------+---------------+----------------+------------------------------------------------------------+----------------+------------+"
      ]
     },
     "execution_count": 38,
     "metadata": {},
     "output_type": "execute_result"
    }
   ],
   "source": [
    "%%sql\n",
    "SELECT\n",
    "  *\n",
    "FROM\n",
    "  bootcamp.medals\n",
    "LIMIT\n",
    "  5"
   ]
  },
  {
   "cell_type": "code",
   "execution_count": 39,
   "id": "277cbbfd-5141-43bd-9b9d-56210623e180",
   "metadata": {},
   "outputs": [
    {
     "data": {
      "text/html": [
       "<table>\n",
       "    <thead>\n",
       "        <tr>\n",
       "            <th>mapid</th>\n",
       "            <th>name</th>\n",
       "            <th>description</th>\n",
       "        </tr>\n",
       "    </thead>\n",
       "    <tbody>\n",
       "        <tr>\n",
       "            <td>c93d708f-f206-11e4-a815-24be05e24f7e</td>\n",
       "            <td>Urban</td>\n",
       "            <td>Andesia was the crucible for countless heroes and villains caught in the throes of seething rebellion and righteous excess.</td>\n",
       "        </tr>\n",
       "        <tr>\n",
       "            <td>cb251c51-f206-11e4-8541-24be05e24f7e</td>\n",
       "            <td>Raid on Apex 7</td>\n",
       "            <td>This unbroken ring is a symbol of the discovery that shook the galaxy and changed the course of both human and Covenant destiny.</td>\n",
       "        </tr>\n",
       "        <tr>\n",
       "            <td>c854e54f-f206-11e4-bddc-24be05e24f7e</td>\n",
       "            <td>March on Stormbreak</td>\n",
       "            <td>None</td>\n",
       "        </tr>\n",
       "        <tr>\n",
       "            <td>c8d69870-f206-11e4-b477-24be05e24f7e</td>\n",
       "            <td>Escape from A.R.C.</td>\n",
       "            <td>Scientists flocked to this Forerunner excavation in search of new beginnings. What they unearthed will lead to their inevitable end.</td>\n",
       "        </tr>\n",
       "        <tr>\n",
       "            <td>73ed1fd0-45e5-4bb9-ab6a-d2852c04ea7d</td>\n",
       "            <td>Osiris</td>\n",
       "            <td>None</td>\n",
       "        </tr>\n",
       "    </tbody>\n",
       "</table>"
      ],
      "text/plain": [
       "+--------------------------------------+---------------------+--------------------------------------------------------------------------------------------------------------------------------------+\n",
       "|                                mapid |                name |                                                                                                                          description |\n",
       "+--------------------------------------+---------------------+--------------------------------------------------------------------------------------------------------------------------------------+\n",
       "| c93d708f-f206-11e4-a815-24be05e24f7e |               Urban |          Andesia was the crucible for countless heroes and villains caught in the throes of seething rebellion and righteous excess. |\n",
       "| cb251c51-f206-11e4-8541-24be05e24f7e |      Raid on Apex 7 |     This unbroken ring is a symbol of the discovery that shook the galaxy and changed the course of both human and Covenant destiny. |\n",
       "| c854e54f-f206-11e4-bddc-24be05e24f7e | March on Stormbreak |                                                                                                                                 None |\n",
       "| c8d69870-f206-11e4-b477-24be05e24f7e |  Escape from A.R.C. | Scientists flocked to this Forerunner excavation in search of new beginnings. What they unearthed will lead to their inevitable end. |\n",
       "| 73ed1fd0-45e5-4bb9-ab6a-d2852c04ea7d |              Osiris |                                                                                                                                 None |\n",
       "+--------------------------------------+---------------------+--------------------------------------------------------------------------------------------------------------------------------------+"
      ]
     },
     "execution_count": 39,
     "metadata": {},
     "output_type": "execute_result"
    }
   ],
   "source": [
    "%%sql\n",
    "SELECT\n",
    "  *\n",
    "FROM\n",
    "  bootcamp.maps\n",
    "LIMIT\n",
    "  5"
   ]
  },
  {
   "cell_type": "markdown",
   "id": "fd731a45-a06a-425d-a0d4-0bfa6ae5ddfc",
   "metadata": {},
   "source": [
    "## 2. Explicitly broadcast JOINs medals and maps"
   ]
  },
  {
   "cell_type": "markdown",
   "id": "c777d089-41a0-4342-bb78-2f972c4393ab",
   "metadata": {},
   "source": [
    "To explicitly broadcast the table joins for the medals and maps, we need to have an understanding of the tables: \n",
    "\n",
    "match_details ─┬─── matches (via match_id) ─── maps (via map_id)\n",
    "             \n",
    "             └─── medals_matches_players (via match_id)\n",
    "                         │\n",
    "                         \n",
    "                         └─── medals (via medal_id)\n",
    "Fact Tables: \n",
    "- match_details\n",
    "- medals_matches_players\n",
    "- matches\n",
    "\n",
    "Dimension Tables: \n",
    "- medals\n",
    "- maps\n"
   ]
  },
  {
   "cell_type": "markdown",
   "id": "054d3e46-6fd8-47f8-92bc-6039bfc938eb",
   "metadata": {},
   "source": [
    "### Check for duplicates\n",
    "Prior to joining, we need to consider the possibility of Duplicates, and dedupe the medals and maps tables (as well as the others)"
   ]
  },
  {
   "cell_type": "code",
   "execution_count": 40,
   "id": "bbb1ce75-a448-4326-9701-5a5a2bb2b370",
   "metadata": {},
   "outputs": [
    {
     "name": "stdout",
     "output_type": "stream",
     "text": [
      "+-----+----+-----------+-----+\n",
      "|mapid|name|description|count|\n",
      "+-----+----+-----------+-----+\n",
      "+-----+----+-----------+-----+\n",
      "\n"
     ]
    }
   ],
   "source": [
    "duplicate_maps = maps.groupBy(maps.columns).count().filter(\"count >1\")\n",
    "duplicate_maps.show()"
   ]
  },
  {
   "cell_type": "code",
   "execution_count": 41,
   "id": "18026ae6-63ae-4fb6-ae46-f6a4b293bc99",
   "metadata": {},
   "outputs": [
    {
     "name": "stdout",
     "output_type": "stream",
     "text": [
      "+--------+----------+-----------+----------+------------------+-------------------+------------+-------------+--------------+-----------+----+----------+-----+\n",
      "|medal_id|sprite_uri|sprite_left|sprite_top|sprite_sheet_width|sprite_sheet_height|sprite_width|sprite_height|classification|description|name|difficulty|count|\n",
      "+--------+----------+-----------+----------+------------------+-------------------+------------+-------------+--------------+-----------+----+----------+-----+\n",
      "+--------+----------+-----------+----------+------------------+-------------------+------------+-------------+--------------+-----------+----+----------+-----+\n",
      "\n"
     ]
    }
   ],
   "source": [
    "duplicate_medals = medals.groupBy(medals.columns).count().filter(\"count >1\")\n",
    "duplicate_medals.show()"
   ]
  },
  {
   "cell_type": "code",
   "execution_count": 42,
   "id": "40d11d1c-b53e-4fc9-82f1-3e9fdaa5e201",
   "metadata": {},
   "outputs": [
    {
     "name": "stderr",
     "output_type": "stream",
     "text": [
      "                                                                                \r"
     ]
    },
    {
     "name": "stdout",
     "output_type": "stream",
     "text": [
      "+--------+---------------+---------------------+------------+-----------------+--------+-----------------+------------------------+------------+---------------------------------+-----------------+----------------+-----------------------+-----------+--------------------------------+----------------+-------------------+---------------+-------------------+------------------+----------------------+--------------------------+-------------------------+------------------------+-------------------------+---------------------------+-------------------------------+--------------------------------+---------------------------+--------------------------------+-------------------------------+-------------------+--------------------+--------------------------+-------+-------+-----+\n",
      "|match_id|player_gamertag|previous_spartan_rank|spartan_rank|previous_total_xp|total_xp|previous_csr_tier|previous_csr_designation|previous_csr|previous_csr_percent_to_next_tier|previous_csr_rank|current_csr_tier|current_csr_designation|current_csr|current_csr_percent_to_next_tier|current_csr_rank|player_rank_on_team|player_finished|player_average_life|player_total_kills|player_total_headshots|player_total_weapon_damage|player_total_shots_landed|player_total_melee_kills|player_total_melee_damage|player_total_assassinations|player_total_ground_pound_kills|player_total_shoulder_bash_kills|player_total_grenade_damage|player_total_power_weapon_damage|player_total_power_weapon_grabs|player_total_deaths|player_total_assists|player_total_grenade_kills|did_win|team_id|count|\n",
      "+--------+---------------+---------------------+------------+-----------------+--------+-----------------+------------------------+------------+---------------------------------+-----------------+----------------+-----------------------+-----------+--------------------------------+----------------+-------------------+---------------+-------------------+------------------+----------------------+--------------------------+-------------------------+------------------------+-------------------------+---------------------------+-------------------------------+--------------------------------+---------------------------+--------------------------------+-------------------------------+-------------------+--------------------+--------------------------+-------+-------+-----+\n",
      "+--------+---------------+---------------------+------------+-----------------+--------+-----------------+------------------------+------------+---------------------------------+-----------------+----------------+-----------------------+-----------+--------------------------------+----------------+-------------------+---------------+-------------------+------------------+----------------------+--------------------------+-------------------------+------------------------+-------------------------+---------------------------+-------------------------------+--------------------------------+---------------------------+--------------------------------+-------------------------------+-------------------+--------------------+--------------------------+-------+-------+-----+\n",
      "\n"
     ]
    }
   ],
   "source": [
    "duplicate_match_details = match_details.groupBy(match_details.columns).count().filter(\"count > 1\")\n",
    "duplicate_match_details.show()"
   ]
  },
  {
   "cell_type": "code",
   "execution_count": 43,
   "id": "00b3745d-9b0e-49ee-b26f-8876667d3426",
   "metadata": {},
   "outputs": [
    {
     "name": "stdout",
     "output_type": "stream",
     "text": [
      "+--------+-----+------------+-----------+---------------+-------------+---------------+--------------+---------+--------------+-----+\n",
      "|match_id|mapid|is_team_game|playlist_id|game_variant_id|is_match_over|completion_date|match_duration|game_mode|map_variant_id|count|\n",
      "+--------+-----+------------+-----------+---------------+-------------+---------------+--------------+---------+--------------+-----+\n",
      "+--------+-----+------------+-----------+---------------+-------------+---------------+--------------+---------+--------------+-----+\n",
      "\n"
     ]
    }
   ],
   "source": [
    "duplicate_matches = matches.groupBy(matches.columns).count().filter(\"count > 1\")\n",
    "duplicate_matches.show()"
   ]
  },
  {
   "cell_type": "code",
   "execution_count": 44,
   "id": "2b5b4f66-0916-4f99-9d22-2bb97cf4951c",
   "metadata": {},
   "outputs": [
    {
     "name": "stderr",
     "output_type": "stream",
     "text": [
      "                                                                                \r"
     ]
    },
    {
     "name": "stdout",
     "output_type": "stream",
     "text": [
      "+--------+---------------+--------+---------------+\n",
      "|match_id|player_gamertag|medal_id|duplicate_count|\n",
      "+--------+---------------+--------+---------------+\n",
      "+--------+---------------+--------+---------------+\n",
      "\n"
     ]
    }
   ],
   "source": [
    "from pyspark.sql.functions import sum, avg, max, min, col, lit, count\n",
    "\n",
    "duplicate_medals_matches_players = medals_matches_players.groupBy(\"match_id\", \"player_gamertag\", \"medal_id\") \\\n",
    "    .agg(count(\"*\").alias(\"duplicate_count\")) \\\n",
    "    .filter(\"duplicate_count > 1\")\n",
    "\n",
    "duplicate_medals_matches_players.show()"
   ]
  },
  {
   "cell_type": "markdown",
   "id": "f2607a3d-2af7-4178-8987-1293b846c2ed",
   "metadata": {},
   "source": [
    "There do not seem to be any duplicate rows in any of the tables. "
   ]
  },
  {
   "cell_type": "markdown",
   "id": "0685665b-bfe5-4a5d-8a34-9140fea3bac1",
   "metadata": {},
   "source": [
    "## 3. Bucket join match_details, matches, and medal_matches_players on match_id with 16 buckets"
   ]
  },
  {
   "cell_type": "code",
   "execution_count": 45,
   "id": "9fca8bee-c951-4a36-85c9-b39e42ea16bd",
   "metadata": {},
   "outputs": [
    {
     "name": "stderr",
     "output_type": "stream",
     "text": [
      "24/12/30 13:46:54 WARN SparkSession: Using an existing Spark session; only runtime SQL configurations will take effect.\n"
     ]
    }
   ],
   "source": [
    "from pyspark.sql.functions import broadcast, split, lit\n",
    "from pyspark.sql.functions import col\n",
    "from pyspark.storagelevel import StorageLevel\n",
    "\n",
    "# Initialize Spark session\n",
    "spark = SparkSession.builder \\\n",
    "    .appName(\"IcebergTableManagement\") \\\n",
    "    .config(\"spark.executor.memory\", \"4g\") \\\n",
    "    .config(\"spark.driver.memory\", \"4g\") \\\n",
    "    .config(\"spark.sql.shuffle.partitions\", \"200\") \\\n",
    "    .config(\"spark.sql.files.maxPartitionBytes\", \"134217728\") \\\n",
    "    .config(\"spark.sql.autoBroadcastJoinThreshold\", \"-1\") \\\n",
    "    .config(\"spark.dynamicAllocation.enabled\", \"true\") \\\n",
    "    .config(\"spark.dynamicAllocation.minExecutors\", \"1\") \\\n",
    "    .config(\"spark.dynamicAllocation.maxExecutors\", \"50\") \\\n",
    "    .getOrCreate()"
   ]
  },
  {
   "attachments": {},
   "cell_type": "markdown",
   "id": "8eb342d5-0b9c-4b4e-924d-5bc864915df8",
   "metadata": {},
   "source": [
    "The next step is to join all of the tables. \n",
    "- Medals will be broadcasted explicitly\n",
    "- the fact tables will be bucketed into 16 buckets\n",
    "- the fact tables will be joined on match_id"
   ]
  },
  {
   "cell_type": "code",
   "execution_count": 46,
   "id": "faf9486f-c24f-4f41-a81e-7126a0d2cddd",
   "metadata": {},
   "outputs": [
    {
     "name": "stderr",
     "output_type": "stream",
     "text": [
      "                                                                                \r"
     ]
    }
   ],
   "source": [
    "matches_bucketed = spark.read.option(\"header\", \"true\") \\\n",
    "    .option(\"inferSchema\", \"true\") \\\n",
    "    .csv(\"/home/iceberg/data/matches.csv\")\n",
    "\n",
    "match_details_bucketed = spark.read.option(\"header\", \"true\") \\\n",
    "    .option(\"inferSchema\", \"true\") \\\n",
    "    .csv(\"/home/iceberg/data/match_details.csv\")\n",
    "\n",
    "medals_matches_players_bucketed = spark.read.option(\"header\", \"true\") \\\n",
    "    .option(\"inferSchema\", \"true\") \\\n",
    "    .csv(\"/home/iceberg/data/medals_matches_players.csv\")"
   ]
  },
  {
   "cell_type": "markdown",
   "id": "bc47b17d-8d99-4856-894b-7053da08d1a7",
   "metadata": {},
   "source": [
    "### 3.1.a. Create matches_bucketed table 🎮"
   ]
  },
  {
   "cell_type": "code",
   "execution_count": 47,
   "id": "d674d0ba-c41d-4762-a0e7-70f45c9cfd89",
   "metadata": {},
   "outputs": [
    {
     "data": {
      "text/plain": [
       "DataFrame[]"
      ]
     },
     "execution_count": 47,
     "metadata": {},
     "output_type": "execute_result"
    }
   ],
   "source": [
    "spark.sql(\"\"\"DROP TABLE IF EXISTS bootcamp.matches_bucketed\"\"\")\n",
    "\n",
    "# Create the table using Iceberg\n",
    "bucketed_ddl = \"\"\"\n",
    "CREATE TABLE IF NOT EXISTS bootcamp.matches_bucketed (\n",
    "    match_id STRING,\n",
    "    is_team_game BOOLEAN,\n",
    "    playlist_id STRING,\n",
    "    completion_date TIMESTAMP,\n",
    "    mapid STRING\n",
    ")\n",
    "USING iceberg\n",
    "PARTITIONED BY (completion_date, bucket(16, match_id))\n",
    "\"\"\"\n",
    "spark.sql(bucketed_ddl)"
   ]
  },
  {
   "cell_type": "markdown",
   "id": "214df682-e4af-453a-b9f1-de6d626e0001",
   "metadata": {},
   "source": [
    "### 3.1.b. Populate matches_bucketed table"
   ]
  },
  {
   "cell_type": "code",
   "execution_count": 48,
   "id": "aae9eddc-030d-451a-b933-c30318a63750",
   "metadata": {},
   "outputs": [
    {
     "name": "stdout",
     "output_type": "stream",
     "text": [
      "+--------------------+------------+--------------------+-------------------+--------------------+\n",
      "|            match_id|is_team_game|         playlist_id|    completion_date|               mapid|\n",
      "+--------------------+------------+--------------------+-------------------+--------------------+\n",
      "|6aab3241-2091-48a...|        true|0e39ead4-383b-445...|2016-05-25 00:00:00|c93d708f-f206-11e...|\n",
      "|fa8f20c7-7b5c-4a3...|        true|f72e0ef0-7c4a-430...|2016-05-25 00:00:00|c7edbf0f-f206-11e...|\n",
      "|de402bea-cf2a-483...|        true|f72e0ef0-7c4a-430...|2016-05-25 00:00:00|c7805740-f206-11e...|\n",
      "|a07c4995-f198-4fc...|        true|c98949ae-60a8-43d...|2016-05-25 00:00:00|cebd854f-f206-11e...|\n",
      "|9f336961-0f94-4e3...|        true|0e39ead4-383b-445...|2016-05-25 00:00:00|c89dae21-f206-11e...|\n",
      "+--------------------+------------+--------------------+-------------------+--------------------+\n",
      "only showing top 5 rows\n",
      "\n"
     ]
    }
   ],
   "source": [
    "# Get distinct completion dates\n",
    "distinct_dates = matches_bucketed.select(\"completion_date\").distinct().collect()\n",
    "\n",
    "# Process data in chunks based on completion_date\n",
    "for row in distinct_dates:\n",
    "    date = row[\"completion_date\"]\n",
    "    filtered_matches = matches_bucketed.filter(col(\"completion_date\") == date)\n",
    "    \n",
    "    # Repartition and persist the filtered data\n",
    "    optimized_matches = filtered_matches \\\n",
    "        .select(\"match_id\", \"is_team_game\", \"playlist_id\", \"completion_date\",\"mapid\") \\\n",
    "        .repartition(16, \"match_id\") \\\n",
    "        .persist(StorageLevel.MEMORY_AND_DISK)\n",
    "    \n",
    "    optimized_matches.write \\\n",
    "        .mode(\"append\") \\\n",
    "        .bucketBy(16, \"match_id\") \\\n",
    "        .partitionBy(\"completion_date\") \\\n",
    "        .saveAsTable(\"bootcamp.matches_bucketed\")\n",
    "\n",
    "# Verify the data in the table\n",
    "result = spark.sql(\"SELECT * FROM bootcamp.matches_bucketed\")\n",
    "result.show(5)"
   ]
  },
  {
   "cell_type": "markdown",
   "id": "b8da2a6f-45c8-4d33-bdca-b18a4a3eacd4",
   "metadata": {},
   "source": [
    "### 3.2.a. Create the bucketed match_details_bucketed table📝"
   ]
  },
  {
   "cell_type": "code",
   "execution_count": 49,
   "id": "a5a2ddca-e487-4f7e-b4ba-1fdd230e9a62",
   "metadata": {},
   "outputs": [
    {
     "data": {
      "text/plain": [
       "DataFrame[]"
      ]
     },
     "execution_count": 49,
     "metadata": {},
     "output_type": "execute_result"
    }
   ],
   "source": [
    "spark.sql(\"\"\"DROP TABLE IF EXISTS bootcamp.match_details_bucketed\"\"\")\n",
    "\n",
    "bucketed_details_ddl = \"\"\"\n",
    "CREATE TABLE IF NOT EXISTS bootcamp.match_details_bucketed (\n",
    "        match_id STRING,\n",
    "        player_gamertag STRING,\n",
    "        player_total_kills INTEGER,\n",
    "        player_total_deaths INTEGER\n",
    " )\n",
    "USING iceberg\n",
    "PARTITIONED BY (bucket(16, match_id));\n",
    "\"\"\"\n",
    "spark.sql(bucketed_details_ddl)"
   ]
  },
  {
   "cell_type": "markdown",
   "id": "5ebe3101-8b44-4ba5-8fad-793617d856b4",
   "metadata": {},
   "source": [
    "### 3.2.b. Populate the bucketed match_details_bucketed table"
   ]
  },
  {
   "cell_type": "code",
   "execution_count": 50,
   "id": "ed6d32dc-2cf2-40a1-8f54-02522c8b3712",
   "metadata": {},
   "outputs": [
    {
     "name": "stdout",
     "output_type": "stream",
     "text": [
      "+--------------------+---------------+------------------+-------------------+\n",
      "|            match_id|player_gamertag|player_total_kills|player_total_deaths|\n",
      "+--------------------+---------------+------------------+-------------------+\n",
      "|f8852913-2ccf-46f...|    OneWingKing|                 7|                  6|\n",
      "|155cfd23-4f97-4f1...|   BigChubSmith|                15|                 11|\n",
      "|155cfd23-4f97-4f1...|  JakeWilson801|                18|                  9|\n",
      "|155cfd23-4f97-4f1...|      taterbase|                 1|                 12|\n",
      "|155cfd23-4f97-4f1...| BeyondHumanx39|                13|                 14|\n",
      "+--------------------+---------------+------------------+-------------------+\n",
      "only showing top 5 rows\n",
      "\n"
     ]
    }
   ],
   "source": [
    "match_details_bucketed.select(\n",
    "    \"match_id\", \"player_gamertag\", \"player_total_kills\", \"player_total_deaths\"\n",
    ").write \\\n",
    "    .format(\"iceberg\") \\\n",
    "    .mode(\"append\") \\\n",
    "    .bucketBy(16, \"match_id\") \\\n",
    "    .saveAsTable(\"bootcamp.match_details_bucketed\")\n",
    "\n",
    "# Verify the data in the table\n",
    "result = spark.sql(\"SELECT * FROM bootcamp.match_details_bucketed\")\n",
    "result.show(5)"
   ]
  },
  {
   "cell_type": "markdown",
   "id": "1c610c1f-8376-4323-b8ac-fcda5bebc040",
   "metadata": {},
   "source": [
    "### 3.3.a. Create the bucketed medals_matches_players table 🎖️"
   ]
  },
  {
   "cell_type": "code",
   "execution_count": 51,
   "id": "245db952-4f16-484b-9e11-18767e62d0a8",
   "metadata": {},
   "outputs": [
    {
     "data": {
      "text/plain": [
       "DataFrame[]"
      ]
     },
     "execution_count": 51,
     "metadata": {},
     "output_type": "execute_result"
    }
   ],
   "source": [
    "spark.sql(\"\"\"DROP TABLE IF EXISTS bootcamp.medals_matches_players_bucketed\"\"\")\n",
    "\n",
    "bucketed_medals_matches_players_ddl = \"\"\"\n",
    "CREATE TABLE IF NOT EXISTS bootcamp.medals_matches_players_bucketed (\n",
    "    match_id STRING,\n",
    "    player_gamertag STRING,\n",
    "    medal_id BIGINT,\n",
    "    COUNT INTEGER\n",
    " )\n",
    "USING iceberg\n",
    "PARTITIONED BY (bucket(16, match_id));\n",
    "\"\"\"\n",
    "spark.sql(bucketed_medals_matches_players_ddl)"
   ]
  },
  {
   "cell_type": "markdown",
   "id": "e5a62685-b001-4dec-a81b-fe4e8352791f",
   "metadata": {},
   "source": [
    "### 3.3.b. Populate the bucketed medals_matches_players table"
   ]
  },
  {
   "cell_type": "code",
   "execution_count": 52,
   "id": "a3ba9d49-b681-4fe7-835c-ad3a2c27b378",
   "metadata": {},
   "outputs": [
    {
     "name": "stdout",
     "output_type": "stream",
     "text": [
      "+--------------------+---------------+----------+-----+\n",
      "|            match_id|player_gamertag|  medal_id|COUNT|\n",
      "+--------------------+---------------+----------+-----+\n",
      "|27d7c16b-b780-4f8...|       EcZachly| 824733727|    1|\n",
      "|27d7c16b-b780-4f8...|       EcZachly|3261908037|    5|\n",
      "|27d7c16b-b780-4f8...|       EcZachly|2078758684|    1|\n",
      "|27d7c16b-b780-4f8...|       EcZachly|1573153198|    1|\n",
      "|27d7c16b-b780-4f8...|       EcZachly|2782465081|    1|\n",
      "+--------------------+---------------+----------+-----+\n",
      "only showing top 5 rows\n",
      "\n"
     ]
    }
   ],
   "source": [
    "medals_matches_players_bucketed.select(\n",
    "    \"match_id\", \"player_gamertag\", \"medal_id\", \"COUNT\"\n",
    ").write \\\n",
    "    .format(\"iceberg\") \\\n",
    "    .mode(\"append\") \\\n",
    "    .bucketBy(16, \"match_id\") \\\n",
    "    .saveAsTable(\"bootcamp.medals_matches_players_bucketed\")\n",
    "\n",
    "# Verify the data in the table\n",
    "result = spark.sql(\"SELECT * FROM bootcamp.medals_matches_players_bucketed\")\n",
    "result.show(5)"
   ]
  },
  {
   "cell_type": "markdown",
   "id": "a6d97780-970b-423e-95c1-c5f4db53ae06",
   "metadata": {},
   "source": [
    "## 4. Aggregate the joined data frame to figure out questions \n",
    "- Which player averages the most kills per game?\n",
    "- Which playlist gets played the most?\n",
    "- Which map gets played the most?\n",
    "- Which map do players get the most Killing Spree medals on?"
   ]
  },
  {
   "cell_type": "code",
   "execution_count": 53,
   "id": "356cf135-9423-41f8-94f7-ad5d6914f9cd",
   "metadata": {},
   "outputs": [
    {
     "data": {
      "text/plain": [
       "DataFrame[]"
      ]
     },
     "execution_count": 53,
     "metadata": {},
     "output_type": "execute_result"
    }
   ],
   "source": [
    "spark.sql(\"\"\"DROP TABLE IF EXISTS bootcamp.joined_matches\"\"\")\n",
    "\n",
    "joined_matches_ddl = \"\"\"\n",
    "CREATE TABLE IF NOT EXISTS bootcamp.joined_matches (\n",
    "        match_id STRING,\n",
    "        player_gamertag STRING,\n",
    "        player_total_kills INTEGER,\n",
    "        player_total_deaths INTEGER,\n",
    "        is_team_game BOOLEAN,\n",
    "        playlist_id STRING,\n",
    "        completion_date TIMESTAMP,\n",
    "        mapid STRING,\n",
    "        medal_id BIGINT,\n",
    "        COUNT INTEGER   \n",
    " )\n",
    "USING iceberg\n",
    "PARTITIONED BY (bucket(16, match_id));\n",
    "\"\"\"\n",
    "spark.sql(joined_matches_ddl)"
   ]
  },
  {
   "cell_type": "code",
   "execution_count": 54,
   "id": "02a9c284-2143-4f11-be36-f008f8e11267",
   "metadata": {},
   "outputs": [
    {
     "name": "stdout",
     "output_type": "stream",
     "text": [
      "== Physical Plan ==\n",
      "AdaptiveSparkPlan isFinalPlan=false\n",
      "+- SortMergeJoin [match_id#47978], [match_id#47987], Inner\n",
      "   :- SortMergeJoin [match_id#47978], [match_id#47982], Inner\n",
      "   :  :- Sort [match_id#47978 ASC NULLS FIRST], false, 0\n",
      "   :  :  +- Exchange hashpartitioning(match_id#47978, 200), ENSURE_REQUIREMENTS, [plan_id=17999]\n",
      "   :  :     +- BatchScan demo.bootcamp.match_details_bucketed[match_id#47978, player_gamertag#47979, player_total_kills#47980, player_total_deaths#47981] demo.bootcamp.match_details_bucketed (branch=null) [filters=match_id IS NOT NULL, groupedBy=] RuntimeFilters: []\n",
      "   :  +- Sort [match_id#47982 ASC NULLS FIRST], false, 0\n",
      "   :     +- Exchange hashpartitioning(match_id#47982, 200), ENSURE_REQUIREMENTS, [plan_id=18000]\n",
      "   :        +- BatchScan demo.bootcamp.matches_bucketed[match_id#47982, is_team_game#47983, playlist_id#47984, completion_date#47985, mapid#47986] demo.bootcamp.matches_bucketed (branch=null) [filters=completion_date IS NOT NULL, completion_date = 1451606400000000, match_id IS NOT NULL, groupedBy=] RuntimeFilters: []\n",
      "   +- Sort [match_id#47987 ASC NULLS FIRST], false, 0\n",
      "      +- Exchange hashpartitioning(match_id#47987, 200), ENSURE_REQUIREMENTS, [plan_id=18006]\n",
      "         +- BatchScan demo.bootcamp.medals_matches_players_bucketed[match_id#47987, player_gamertag#47988, medal_id#47989L, COUNT#47990] demo.bootcamp.medals_matches_players_bucketed (branch=null) [filters=match_id IS NOT NULL, groupedBy=] RuntimeFilters: []\n",
      "\n",
      "\n"
     ]
    }
   ],
   "source": [
    "spark.sql(\"\"\"\n",
    "    SELECT * \n",
    "    FROM bootcamp.match_details_bucketed mdb \n",
    "    JOIN bootcamp.matches_bucketed md \n",
    "        ON mdb.match_id = md.match_id\n",
    "        AND md.completion_date = DATE('2016-01-01')\n",
    "    JOIN bootcamp.medals_matches_players_bucketed mmp \n",
    "        ON mdb.match_id = mmp.match_id\n",
    "\"\"\").explain()"
   ]
  },
  {
   "cell_type": "code",
   "execution_count": 55,
   "id": "644373ba-1f0a-4a2f-be03-52f70721587a",
   "metadata": {},
   "outputs": [],
   "source": [
    "joined_matches_query = \"\"\"\n",
    "    SELECT \n",
    "        mdb.match_id,\n",
    "        mdb.player_gamertag,\n",
    "        mdb.player_total_kills,\n",
    "        mdb.player_total_deaths,\n",
    "        md.is_team_game,\n",
    "        md.playlist_id,\n",
    "        md.completion_date,\n",
    "        md.mapid,\n",
    "        mmp.medal_id,\n",
    "        mmp.COUNT    \n",
    "    FROM bootcamp.match_details_bucketed mdb \n",
    "    JOIN bootcamp.matches_bucketed md \n",
    "        ON mdb.match_id = md.match_id\n",
    "    JOIN bootcamp.medals_matches_players_bucketed mmp \n",
    "        ON mdb.match_id = mmp.match_id\n",
    "\"\"\"\n",
    "\n",
    "joined_matches = spark.sql(joined_matches_query)"
   ]
  },
  {
   "cell_type": "code",
   "execution_count": 56,
   "id": "06324150-f8d1-46f3-800a-2aceb7b0761a",
   "metadata": {},
   "outputs": [
    {
     "name": "stderr",
     "output_type": "stream",
     "text": [
      "[Stage 2259:==========================================>             (6 + 2) / 8]\r"
     ]
    },
    {
     "name": "stdout",
     "output_type": "stream",
     "text": [
      "+--------------------+---------------+------------------+-------------------+------------+--------------------+-------------------+--------------------+----------+-----+\n",
      "|            match_id|player_gamertag|player_total_kills|player_total_deaths|is_team_game|         playlist_id|    completion_date|               mapid|  medal_id|COUNT|\n",
      "+--------------------+---------------+------------------+-------------------+------------+--------------------+-------------------+--------------------+----------+-----+\n",
      "|0377e616-bf8b-4a4...|     Snipe Envy|                14|                  8|        true|bc0f8ad6-31e6-4a1...|2016-04-23 00:00:00|cdee4e70-f206-11e...|2078758684|    2|\n",
      "|0377e616-bf8b-4a4...|     Snipe Envy|                14|                  8|        true|bc0f8ad6-31e6-4a1...|2016-04-23 00:00:00|cdee4e70-f206-11e...| 848240062|    1|\n",
      "|0377e616-bf8b-4a4...|     Snipe Envy|                14|                  8|        true|bc0f8ad6-31e6-4a1...|2016-04-23 00:00:00|cdee4e70-f206-11e...| 824733727|    3|\n",
      "|0377e616-bf8b-4a4...|     Snipe Envy|                14|                  8|        true|bc0f8ad6-31e6-4a1...|2016-04-23 00:00:00|cdee4e70-f206-11e...|3261908037|    5|\n",
      "|0377e616-bf8b-4a4...|     Snipe Envy|                14|                  8|        true|bc0f8ad6-31e6-4a1...|2016-04-23 00:00:00|cdee4e70-f206-11e...|2763748638|    1|\n",
      "+--------------------+---------------+------------------+-------------------+------------+--------------------+-------------------+--------------------+----------+-----+\n",
      "only showing top 5 rows\n",
      "\n"
     ]
    },
    {
     "name": "stderr",
     "output_type": "stream",
     "text": [
      "                                                                                \r"
     ]
    }
   ],
   "source": [
    "joined_matches.select(\n",
    "    \"match_id\", \"player_gamertag\", \"player_total_kills\", \"player_total_deaths\", \\\n",
    "\"is_team_game\", \"playlist_id\", \"completion_date\", \"mapid\", \"medal_id\", \\\n",
    "    \"COUNT\").write \\\n",
    "    .format(\"iceberg\") \\\n",
    "    .mode(\"append\") \\\n",
    "    .bucketBy(16, \"match_id\") \\\n",
    "    .saveAsTable(\"bootcamp.joined_matches\")\n",
    "\n",
    "# Verify the data in the table\n",
    "result = spark.sql(\"\"\"SELECT * FROM bootcamp.joined_matches\"\"\")\n",
    "result.show(5)"
   ]
  },
  {
   "cell_type": "markdown",
   "id": "ce159c5f-a5f7-4e8d-8550-ceef74956bfe",
   "metadata": {},
   "source": [
    "## Broadcast JOINs medals and maps"
   ]
  },
  {
   "cell_type": "code",
   "execution_count": 57,
   "id": "741c4aa6-6fa1-45af-838f-bb1aac8f28ca",
   "metadata": {},
   "outputs": [],
   "source": [
    "from pyspark.sql.functions import broadcast"
   ]
  },
  {
   "cell_type": "code",
   "execution_count": 59,
   "id": "92238754-f051-4e4b-8c07-4a94c24dcd6b",
   "metadata": {},
   "outputs": [
    {
     "name": "stderr",
     "output_type": "stream",
     "text": [
      "                                                                                \r"
     ]
    },
    {
     "name": "stdout",
     "output_type": "stream",
     "text": [
      "+--------------------+--------------------+---------------+------------------+-------------------+------------+--------------------+-------------------+----------+-----+------+--------------------+\n",
      "|               mapid|            match_id|player_gamertag|player_total_kills|player_total_deaths|is_team_game|         playlist_id|    completion_date|  medal_id|COUNT|  name|         description|\n",
      "+--------------------+--------------------+---------------+------------------+-------------------+------------+--------------------+-------------------+----------+-----+------+--------------------+\n",
      "|cc040aa1-f206-11e...|00169217-cca6-4b4...|  King Terror V|                14|                  7|        true|2323b76a-db98-4e0...|2016-03-13 00:00:00|3261908037|   11|Fathom|The UNSC explores...|\n",
      "|cc040aa1-f206-11e...|00169217-cca6-4b4...|  King Terror V|                14|                  7|        true|2323b76a-db98-4e0...|2016-03-13 00:00:00|3001183151|    1|Fathom|The UNSC explores...|\n",
      "|cc040aa1-f206-11e...|00169217-cca6-4b4...|  King Terror V|                14|                  7|        true|2323b76a-db98-4e0...|2016-03-13 00:00:00| 824733727|    3|Fathom|The UNSC explores...|\n",
      "|cc040aa1-f206-11e...|00169217-cca6-4b4...|  King Terror V|                14|                  7|        true|2323b76a-db98-4e0...|2016-03-13 00:00:00|2078758684|    3|Fathom|The UNSC explores...|\n",
      "|cc040aa1-f206-11e...|00169217-cca6-4b4...|  King Terror V|                14|                  7|        true|2323b76a-db98-4e0...|2016-03-13 00:00:00|2430242797|    1|Fathom|The UNSC explores...|\n",
      "+--------------------+--------------------+---------------+------------------+-------------------+------------+--------------------+-------------------+----------+-----+------+--------------------+\n",
      "only showing top 5 rows\n",
      "\n"
     ]
    }
   ],
   "source": [
    "# Broadcast matches with maps\n",
    "matches_with_maps = joined_matches \\\n",
    "    .join(broadcast(maps), on=\"mapid\", how=\"inner\")\n",
    "matches_with_maps.show(5)"
   ]
  },
  {
   "cell_type": "code",
   "execution_count": 60,
   "id": "35190b7a-6a03-401f-9c3c-725008d03504",
   "metadata": {},
   "outputs": [
    {
     "name": "stderr",
     "output_type": "stream",
     "text": [
      "                                                                                \r"
     ]
    },
    {
     "name": "stdout",
     "output_type": "stream",
     "text": [
      "+----------+--------------------+---------------+------------------+-------------------+------------+--------------------+-------------------+--------------------+-----+--------------------+-----------+----------+------------------+-------------------+------------+-------------+-----------------+--------------------+-------------+----------+\n",
      "|  medal_id|            match_id|player_gamertag|player_total_kills|player_total_deaths|is_team_game|         playlist_id|    completion_date|               mapid|COUNT|          sprite_uri|sprite_left|sprite_top|sprite_sheet_width|sprite_sheet_height|sprite_width|sprite_height|   classification|         description|         name|difficulty|\n",
      "+----------+--------------------+---------------+------------------+-------------------+------------+--------------------+-------------------+--------------------+-----+--------------------+-----------+----------+------------------+-------------------+------------+-------------+-----------------+--------------------+-------------+----------+\n",
      "|3261908037|00169217-cca6-4b4...|  King Terror V|                14|                  7|        true|2323b76a-db98-4e0...|2016-03-13 00:00:00|cc040aa1-f206-11e...|   11|https://content.h...|        375|       525|                74|                 74|        1125|          899|WeaponProficiency|Kill an opponent ...|     Headshot|        60|\n",
      "|3001183151|00169217-cca6-4b4...|  King Terror V|                14|                  7|        true|2323b76a-db98-4e0...|2016-03-13 00:00:00|cc040aa1-f206-11e...|    1|https://content.h...|        300|       600|                74|                 74|        1125|          899|            Style|Earn the first ki...| First Strike|       180|\n",
      "| 824733727|00169217-cca6-4b4...|  King Terror V|                14|                  7|        true|2323b76a-db98-4e0...|2016-03-13 00:00:00|cc040aa1-f206-11e...|    3|https://content.h...|        975|       450|                74|                 74|        1125|          899|            Style|Distract an oppon...|  Distraction|       150|\n",
      "|2078758684|00169217-cca6-4b4...|  King Terror V|                14|                  7|        true|2323b76a-db98-4e0...|2016-03-13 00:00:00|cc040aa1-f206-11e...|    3|https://content.h...|        450|       300|                74|                 74|        1125|          899|        MultiKill|Kill 2 opponents ...|  Double Kill|        45|\n",
      "|2430242797|00169217-cca6-4b4...|  King Terror V|                14|                  7|        true|2323b76a-db98-4e0...|2016-03-13 00:00:00|cc040aa1-f206-11e...|    1|https://content.h...|        675|       300|                74|                 74|        1125|          899|     KillingSpree|Kill 5 opponents ...|Killing Spree|        45|\n",
      "+----------+--------------------+---------------+------------------+-------------------+------------+--------------------+-------------------+--------------------+-----+--------------------+-----------+----------+------------------+-------------------+------------+-------------+-----------------+--------------------+-------------+----------+\n",
      "only showing top 5 rows\n",
      "\n"
     ]
    }
   ],
   "source": [
    "# Broadcast matches with medals\n",
    "matches_with_medals = joined_matches \\\n",
    "    .join(broadcast(medals), on=\"medal_id\", how=\"inner\")\n",
    "matches_with_medals.show(5)"
   ]
  },
  {
   "cell_type": "markdown",
   "id": "102db567-123a-4a82-96fd-1be465695781",
   "metadata": {},
   "source": [
    "### a. Player with max kills per game?"
   ]
  },
  {
   "cell_type": "code",
   "execution_count": 61,
   "id": "4b3e30f4-4b4f-448d-b765-151b554a6020",
   "metadata": {},
   "outputs": [
    {
     "name": "stdout",
     "output_type": "stream",
     "text": [
      "+---------------+-------+\n",
      "|player_gamertag|count_k|\n",
      "+---------------+-------+\n",
      "|       EcZachly|1503498|\n",
      "+---------------+-------+\n",
      "\n"
     ]
    }
   ],
   "source": [
    "max_kills_query = \"\"\"\n",
    "with raw as (\n",
    "    select player_gamertag\n",
    "    , player_total_kills\n",
    "    from  bootcamp.joined_matches jm\n",
    ")\n",
    "\n",
    ", total_kills_per_player as (\n",
    "select player_gamertag\n",
    ", sum(player_total_kills) as count_k\n",
    "from raw\n",
    "group by 1\n",
    ")\n",
    "\n",
    "select * from total_kills_per_player \n",
    "order by count_k desc \n",
    "limit 1\n",
    "\"\"\"\n",
    "\n",
    "max_kills = spark.sql(max_kills_query)\n",
    "max_kills.show()"
   ]
  },
  {
   "cell_type": "markdown",
   "id": "dfa24a59-5176-413e-a926-31f580b57c17",
   "metadata": {},
   "source": [
    "### b. Playlist played the most?"
   ]
  },
  {
   "cell_type": "code",
   "execution_count": 62,
   "id": "5f5726ea-198b-4d09-9993-ccde1d0ca324",
   "metadata": {},
   "outputs": [
    {
     "name": "stdout",
     "output_type": "stream",
     "text": [
      "+--------------------+-------+\n",
      "|         playlist_id|count_m|\n",
      "+--------------------+-------+\n",
      "|f72e0ef0-7c4a-430...|1565529|\n",
      "+--------------------+-------+\n",
      "\n"
     ]
    },
    {
     "name": "stderr",
     "output_type": "stream",
     "text": [
      "                                                                                \r"
     ]
    }
   ],
   "source": [
    "max_plays_query = \"\"\"\n",
    "with raw as (\n",
    "    select playlist_id\n",
    "    , match_id\n",
    "    from  bootcamp.joined_matches jm\n",
    ")\n",
    "\n",
    ", total_matches_per_playlist as (\n",
    "select playlist_id\n",
    ", count(match_id) as count_m\n",
    "from raw\n",
    "group by 1\n",
    ")\n",
    "\n",
    "select * from total_matches_per_playlist \n",
    "order by count_m desc \n",
    "limit 1\n",
    "\"\"\"\n",
    "\n",
    "spark.sql(max_plays_query).show()"
   ]
  },
  {
   "cell_type": "markdown",
   "id": "dbcb14af-1708-4110-a70f-41c1089af668",
   "metadata": {},
   "source": [
    "### c. Map played the most?"
   ]
  },
  {
   "cell_type": "code",
   "execution_count": 63,
   "id": "ae507b63-f9a8-4791-b439-fc7b0022ba1b",
   "metadata": {},
   "outputs": [
    {
     "name": "stderr",
     "output_type": "stream",
     "text": [
      "[Stage 2290:============================================>           (4 + 1) / 5]\r"
     ]
    },
    {
     "name": "stdout",
     "output_type": "stream",
     "text": [
      "+--------------------+--------------+-------+\n",
      "|               mapid|          name|count_m|\n",
      "+--------------------+--------------+-------+\n",
      "|c7edbf0f-f206-11e...|Breakout Arena|   7032|\n",
      "+--------------------+--------------+-------+\n",
      "\n"
     ]
    },
    {
     "name": "stderr",
     "output_type": "stream",
     "text": [
      "                                                                                \r"
     ]
    }
   ],
   "source": [
    "raw_df = matches_with_maps.select(\"mapid\", \"name\", \"match_id\").distinct()\n",
    "\n",
    "# Step 2: Group by mapid and name, count distinct match IDs\n",
    "total_matches_per_map_df = raw_df.groupBy(\"mapid\", \"name\") \\\n",
    "    .agg({\"match_id\": \"count\"}) \\\n",
    "    .withColumnRenamed(\"count(match_id)\", \"count_m\")\n",
    "\n",
    "# Step 3: Get the map with the most unique matches\n",
    "top_map_df = total_matches_per_map_df.orderBy(\"count_m\", ascending=False).limit(1)\n",
    "\n",
    "# Step 4: Display the result\n",
    "top_map_df.show()"
   ]
  },
  {
   "cell_type": "markdown",
   "id": "1b5d3c1d-03fa-4a1f-98dc-9be75864b9dd",
   "metadata": {},
   "source": [
    "### d. Which map do players get the most Killing Spree medals on?"
   ]
  },
  {
   "cell_type": "code",
   "execution_count": 64,
   "id": "e9e24d7f-5000-46e4-8ba7-1c29c8c04f35",
   "metadata": {},
   "outputs": [
    {
     "name": "stderr",
     "output_type": "stream",
     "text": [
      "[Stage 2304:>                                                       (0 + 6) / 6]\r"
     ]
    },
    {
     "name": "stdout",
     "output_type": "stream",
     "text": [
      "+--------------+--------------------+-------------+------------------+\n",
      "|          name|               mapid|   medal_name|unique_match_count|\n",
      "+--------------+--------------------+-------------+------------------+\n",
      "|Breakout Arena|c7edbf0f-f206-11e...|Killing Spree|              4917|\n",
      "+--------------+--------------------+-------------+------------------+\n",
      "\n"
     ]
    },
    {
     "name": "stderr",
     "output_type": "stream",
     "text": [
      "                                                                                \r"
     ]
    }
   ],
   "source": [
    "from pyspark.sql.functions import col\n",
    "\n",
    "killing_spree_df = matches_with_medals.withColumnRenamed(\"name\", \"medal_name\").filter(col(\"medal_name\") == \"Killing Spree\")\n",
    "\n",
    "# Step 2: Select distinct combinations of mapid and match_id\n",
    "unique_killing_spree_matches_df = killing_spree_df.select(\"mapid\", \"medal_name\", \"match_id\").distinct()\n",
    "\n",
    "# Step 3: Group by mapid and name, and count distinct match_id's\n",
    "total_unique_matches_per_map_df = unique_killing_spree_matches_df.groupBy(\"mapid\", \"medal_name\") \\\n",
    "    .agg({\"match_id\": \"count\"}) \\\n",
    "    .withColumnRenamed(\"count(match_id)\", \"unique_match_count\")\n",
    "\n",
    "total_unique_matches_with_name_df = total_unique_matches_per_map_df \\\n",
    "    .join(broadcast(maps), on=\"mapid\", how=\"inner\") \\\n",
    "    .select(\"name\", \"mapid\", \"medal_name\", \"unique_match_count\")\n",
    "\n",
    "# Step 5: Get the map with the most unique match IDs for \"Killing Spree\" medals\n",
    "top_map_df = total_unique_matches_with_name_df.orderBy(\"unique_match_count\", ascending=False).limit(1)\n",
    "\n",
    "# Step 6: Display the result\n",
    "top_map_df.show()"
   ]
  },
  {
   "cell_type": "markdown",
   "id": "8d4b68ec-589e-415b-b810-cd449f3fad9c",
   "metadata": {},
   "source": [
    "## 5. Sort the aggregated dataset"
   ]
  },
  {
   "cell_type": "code",
   "execution_count": 65,
   "id": "6917a4c6-8751-4d38-a279-73cfa54f5477",
   "metadata": {},
   "outputs": [
    {
     "name": "stderr",
     "output_type": "stream",
     "text": [
      "24/12/30 13:54:07 WARN SparkSession: Using an existing Spark session; only runtime SQL configurations will take effect.\n"
     ]
    },
    {
     "data": {
      "text/html": [
       "<table>\n",
       "    <thead>\n",
       "        <tr>\n",
       "        </tr>\n",
       "    </thead>\n",
       "    <tbody>\n",
       "    </tbody>\n",
       "</table>"
      ],
      "text/plain": [
       "++\n",
       "||\n",
       "++\n",
       "++"
      ]
     },
     "execution_count": 65,
     "metadata": {},
     "output_type": "execute_result"
    }
   ],
   "source": [
    "%%sql\n",
    "\n",
    "CREATE TABLE IF NOT EXISTS bootcamp.matches_unsorted (\n",
    "    match_id STRING,\n",
    "    player_gamertag STRING,\n",
    "    player_total_kills INTEGER,\n",
    "    player_total_deaths INTEGER,\n",
    "    is_team_game BOOLEAN,\n",
    "    playlist_id STRING,\n",
    "    completion_date TIMESTAMP,\n",
    "    mapid STRING,\n",
    "    medal_id BIGINT,\n",
    "    COUNT INTEGER   \n",
    ")\n",
    "USING iceberg\n",
    "PARTITIONED BY (year(completion_date));"
   ]
  },
  {
   "cell_type": "code",
   "execution_count": 66,
   "id": "0c808168-73c3-45cb-92bd-440c82900494",
   "metadata": {},
   "outputs": [
    {
     "data": {
      "text/html": [
       "<table>\n",
       "    <thead>\n",
       "        <tr>\n",
       "        </tr>\n",
       "    </thead>\n",
       "    <tbody>\n",
       "    </tbody>\n",
       "</table>"
      ],
      "text/plain": [
       "++\n",
       "||\n",
       "++\n",
       "++"
      ]
     },
     "execution_count": 66,
     "metadata": {},
     "output_type": "execute_result"
    }
   ],
   "source": [
    "%%sql\n",
    "\n",
    "CREATE TABLE IF NOT EXISTS bootcamp.matches_sorted (\n",
    "    match_id STRING,\n",
    "    player_gamertag STRING,\n",
    "    player_total_kills INTEGER,\n",
    "    player_total_deaths INTEGER,\n",
    "    is_team_game BOOLEAN,\n",
    "    playlist_id STRING,\n",
    "    completion_date TIMESTAMP,\n",
    "    mapid STRING,\n",
    "    medal_id BIGINT,\n",
    "    COUNT INTEGER   \n",
    ")\n",
    "USING iceberg\n",
    "PARTITIONED BY (year(completion_date));"
   ]
  },
  {
   "cell_type": "code",
   "execution_count": 75,
   "id": "5ad7756d-ffbb-4d43-8c5c-ffd95698a029",
   "metadata": {},
   "outputs": [
    {
     "data": {
      "text/html": [
       "<table>\n",
       "    <thead>\n",
       "        <tr>\n",
       "        </tr>\n",
       "    </thead>\n",
       "    <tbody>\n",
       "    </tbody>\n",
       "</table>"
      ],
      "text/plain": [
       "++\n",
       "||\n",
       "++\n",
       "++"
      ]
     },
     "execution_count": 75,
     "metadata": {},
     "output_type": "execute_result"
    }
   ],
   "source": [
    "%%sql\n",
    "\n",
    "CREATE TABLE IF NOT EXISTS bootcamp.matches_sorted_v2 (\n",
    "    match_id STRING,\n",
    "    player_gamertag STRING,\n",
    "    player_total_kills INTEGER,\n",
    "    player_total_deaths INTEGER,\n",
    "    is_team_game BOOLEAN,\n",
    "    playlist_id STRING,\n",
    "    completion_date TIMESTAMP,\n",
    "    mapid STRING,\n",
    "    medal_id BIGINT,\n",
    "    COUNT INTEGER   \n",
    ")\n",
    "USING iceberg\n",
    "PARTITIONED BY (year(completion_date));"
   ]
  },
  {
   "cell_type": "code",
   "execution_count": 71,
   "id": "c475159c-952a-4b14-9414-c3038979b022",
   "metadata": {},
   "outputs": [
    {
     "name": "stdout",
     "output_type": "stream",
     "text": [
      "== Physical Plan ==\n",
      "AdaptiveSparkPlan isFinalPlan=false\n",
      "+- Exchange hashpartitioning(completion_date#48039, 10), REPARTITION_BY_NUM, [plan_id=21213]\n",
      "   +- Project [match_id#48032, player_gamertag#48033, player_total_kills#48034, player_total_deaths#48035, is_team_game#48037, playlist_id#48038, completion_date#48039, mapid#48040, medal_id#48043L, COUNT#48044]\n",
      "      +- SortMergeJoin [match_id#48032], [match_id#48041], Inner\n",
      "         :- Project [match_id#48032, player_gamertag#48033, player_total_kills#48034, player_total_deaths#48035, is_team_game#48037, playlist_id#48038, completion_date#48039, mapid#48040]\n",
      "         :  +- SortMergeJoin [match_id#48032], [match_id#48036], Inner\n",
      "         :     :- Sort [match_id#48032 ASC NULLS FIRST], false, 0\n",
      "         :     :  +- Exchange hashpartitioning(match_id#48032, 200), ENSURE_REQUIREMENTS, [plan_id=21201]\n",
      "         :     :     +- BatchScan demo.bootcamp.match_details_bucketed[match_id#48032, player_gamertag#48033, player_total_kills#48034, player_total_deaths#48035] demo.bootcamp.match_details_bucketed (branch=null) [filters=match_id IS NOT NULL, groupedBy=] RuntimeFilters: []\n",
      "         :     +- Sort [match_id#48036 ASC NULLS FIRST], false, 0\n",
      "         :        +- Exchange hashpartitioning(match_id#48036, 200), ENSURE_REQUIREMENTS, [plan_id=21202]\n",
      "         :           +- BatchScan demo.bootcamp.matches_bucketed[match_id#48036, is_team_game#48037, playlist_id#48038, completion_date#48039, mapid#48040] demo.bootcamp.matches_bucketed (branch=null) [filters=match_id IS NOT NULL, groupedBy=] RuntimeFilters: []\n",
      "         +- Sort [match_id#48041 ASC NULLS FIRST], false, 0\n",
      "            +- Exchange hashpartitioning(match_id#48041, 200), ENSURE_REQUIREMENTS, [plan_id=21209]\n",
      "               +- BatchScan demo.bootcamp.medals_matches_players_bucketed[match_id#48041, medal_id#48043L, COUNT#48044] demo.bootcamp.medals_matches_players_bucketed (branch=null) [filters=match_id IS NOT NULL, groupedBy=] RuntimeFilters: []\n",
      "\n",
      "\n"
     ]
    },
    {
     "name": "stderr",
     "output_type": "stream",
     "text": [
      "                                                                                \r"
     ]
    }
   ],
   "source": [
    "#Unsorted data, partition on completion date\n",
    "partition_df = joined_matches.repartition(10, col(\"completion_date\"))\n",
    "partition_df.explain()\n",
    "partition_df.write.mode(\"overwrite\").saveAsTable(\"bootcamp.matches_unsorted\")"
   ]
  },
  {
   "cell_type": "code",
   "execution_count": 72,
   "id": "2bbcf4cf-f50b-4f24-b6b9-b543e1d87126",
   "metadata": {},
   "outputs": [
    {
     "name": "stdout",
     "output_type": "stream",
     "text": [
      "== Physical Plan ==\n",
      "AdaptiveSparkPlan isFinalPlan=false\n",
      "+- Sort [completion_date#48039 ASC NULLS FIRST, player_gamertag#48033 ASC NULLS FIRST], false, 0\n",
      "   +- Exchange hashpartitioning(completion_date#48039, 10), REPARTITION_BY_NUM, [plan_id=21553]\n",
      "      +- Project [match_id#48032, player_gamertag#48033, player_total_kills#48034, player_total_deaths#48035, is_team_game#48037, playlist_id#48038, completion_date#48039, mapid#48040, medal_id#48043L, COUNT#48044]\n",
      "         +- SortMergeJoin [match_id#48032], [match_id#48041], Inner\n",
      "            :- Project [match_id#48032, player_gamertag#48033, player_total_kills#48034, player_total_deaths#48035, is_team_game#48037, playlist_id#48038, completion_date#48039, mapid#48040]\n",
      "            :  +- SortMergeJoin [match_id#48032], [match_id#48036], Inner\n",
      "            :     :- Sort [match_id#48032 ASC NULLS FIRST], false, 0\n",
      "            :     :  +- Exchange hashpartitioning(match_id#48032, 200), ENSURE_REQUIREMENTS, [plan_id=21541]\n",
      "            :     :     +- BatchScan demo.bootcamp.match_details_bucketed[match_id#48032, player_gamertag#48033, player_total_kills#48034, player_total_deaths#48035] demo.bootcamp.match_details_bucketed (branch=null) [filters=match_id IS NOT NULL, groupedBy=] RuntimeFilters: []\n",
      "            :     +- Sort [match_id#48036 ASC NULLS FIRST], false, 0\n",
      "            :        +- Exchange hashpartitioning(match_id#48036, 200), ENSURE_REQUIREMENTS, [plan_id=21542]\n",
      "            :           +- BatchScan demo.bootcamp.matches_bucketed[match_id#48036, is_team_game#48037, playlist_id#48038, completion_date#48039, mapid#48040] demo.bootcamp.matches_bucketed (branch=null) [filters=match_id IS NOT NULL, groupedBy=] RuntimeFilters: []\n",
      "            +- Sort [match_id#48041 ASC NULLS FIRST], false, 0\n",
      "               +- Exchange hashpartitioning(match_id#48041, 200), ENSURE_REQUIREMENTS, [plan_id=21549]\n",
      "                  +- BatchScan demo.bootcamp.medals_matches_players_bucketed[match_id#48041, medal_id#48043L, COUNT#48044] demo.bootcamp.medals_matches_players_bucketed (branch=null) [filters=match_id IS NOT NULL, groupedBy=] RuntimeFilters: []\n",
      "\n",
      "\n"
     ]
    },
    {
     "name": "stderr",
     "output_type": "stream",
     "text": [
      "                                                                                \r"
     ]
    }
   ],
   "source": [
    "#Sorted on completion date and player gametag\n",
    "sorted_df = joined_matches.repartition(10, col(\"completion_date\"))\\\n",
    "    .sortWithinPartitions(col(\"completion_date\"), col(\"player_gamertag\"))\n",
    "sorted_df.explain()\n",
    "sorted_df.write.mode(\"overwrite\").saveAsTable(\"bootcamp.matches_sorted\")"
   ]
  },
  {
   "cell_type": "code",
   "execution_count": null,
   "id": "c930fffd-21f9-4e34-95af-dd33ebf04ae9",
   "metadata": {},
   "outputs": [
    {
     "name": "stdout",
     "output_type": "stream",
     "text": [
      "== Physical Plan ==\n",
      "AdaptiveSparkPlan isFinalPlan=false\n",
      "+- Sort [completion_date#48039 ASC NULLS FIRST, player_gamertag#48033 ASC NULLS FIRST, match_id#48032 ASC NULLS FIRST], false, 0\n",
      "   +- Exchange hashpartitioning(completion_date#48039, 10), REPARTITION_BY_NUM, [plan_id=22110]\n",
      "      +- Project [match_id#48032, player_gamertag#48033, player_total_kills#48034, player_total_deaths#48035, is_team_game#48037, playlist_id#48038, completion_date#48039, mapid#48040, medal_id#48043L, COUNT#48044]\n",
      "         +- SortMergeJoin [match_id#48032], [match_id#48041], Inner\n",
      "            :- Project [match_id#48032, player_gamertag#48033, player_total_kills#48034, player_total_deaths#48035, is_team_game#48037, playlist_id#48038, completion_date#48039, mapid#48040]\n",
      "            :  +- SortMergeJoin [match_id#48032], [match_id#48036], Inner\n",
      "            :     :- Sort [match_id#48032 ASC NULLS FIRST], false, 0\n",
      "            :     :  +- Exchange hashpartitioning(match_id#48032, 200), ENSURE_REQUIREMENTS, [plan_id=22098]\n",
      "            :     :     +- BatchScan demo.bootcamp.match_details_bucketed[match_id#48032, player_gamertag#48033, player_total_kills#48034, player_total_deaths#48035] demo.bootcamp.match_details_bucketed (branch=null) [filters=match_id IS NOT NULL, groupedBy=] RuntimeFilters: []\n",
      "            :     +- Sort [match_id#48036 ASC NULLS FIRST], false, 0\n",
      "            :        +- Exchange hashpartitioning(match_id#48036, 200), ENSURE_REQUIREMENTS, [plan_id=22099]\n",
      "            :           +- BatchScan demo.bootcamp.matches_bucketed[match_id#48036, is_team_game#48037, playlist_id#48038, completion_date#48039, mapid#48040] demo.bootcamp.matches_bucketed (branch=null) [filters=match_id IS NOT NULL, groupedBy=] RuntimeFilters: []\n",
      "            +- Sort [match_id#48041 ASC NULLS FIRST], false, 0\n",
      "               +- Exchange hashpartitioning(match_id#48041, 200), ENSURE_REQUIREMENTS, [plan_id=22106]\n",
      "                  +- BatchScan demo.bootcamp.medals_matches_players_bucketed[match_id#48041, medal_id#48043L, COUNT#48044] demo.bootcamp.medals_matches_players_bucketed (branch=null) [filters=match_id IS NOT NULL, groupedBy=] RuntimeFilters: []\n",
      "\n",
      "\n"
     ]
    },
    {
     "name": "stderr",
     "output_type": "stream",
     "text": [
      "[Stage 2384:>                                                      (0 + 6) / 10]\r"
     ]
    }
   ],
   "source": [
    "#Sorted on lowest cardinality to highest cardinality\n",
    "sorted_df_2 = joined_matches.repartition(10, col(\"completion_date\"))\\\n",
    "    .sortWithinPartitions(col(\"completion_date\"), col(\"player_gamertag\"), col(\"match_id\"))\n",
    "sorted_df_2.explain()\n",
    "sorted_df_2.write.mode(\"overwrite\").saveAsTable(\"bootcamp.matches_sorted_v2\")"
   ]
  },
  {
   "cell_type": "code",
   "execution_count": null,
   "id": "07bdff8c-b05e-44e2-ab41-a70bcb8629ad",
   "metadata": {},
   "outputs": [],
   "source": [
    "%%sql\n",
    "\n",
    "SELECT SUM(file_size_in_bytes) as size, COUNT(1) as num_files, 'sorted v2' \n",
    "FROM demo.bootcamp.matches_sorted_v2.files\n",
    "\n",
    "UNION ALL\n",
    "SELECT SUM(file_size_in_bytes) as size, COUNT(1) as num_files, 'sorted' \n",
    "FROM demo.bootcamp.matches_sorted.files\n",
    "\n",
    "UNION ALL\n",
    "SELECT SUM(file_size_in_bytes) as size, COUNT(1) as num_files, 'unsorted' \n",
    "FROM demo.bootcamp.matches_unsorted.files"
   ]
  },
  {
   "cell_type": "code",
   "execution_count": null,
   "id": "7357bcc1-1367-4f6b-b600-5f945809c7c0",
   "metadata": {},
   "outputs": [],
   "source": []
  }
 ],
 "metadata": {
  "kernelspec": {
   "display_name": "Python 3 (ipykernel)",
   "language": "python",
   "name": "python3"
  },
  "language_info": {
   "codemirror_mode": {
    "name": "ipython",
    "version": 3
   },
   "file_extension": ".py",
   "mimetype": "text/x-python",
   "name": "python",
   "nbconvert_exporter": "python",
   "pygments_lexer": "ipython3",
   "version": "3.9.18"
  }
 },
 "nbformat": 4,
 "nbformat_minor": 5
}
